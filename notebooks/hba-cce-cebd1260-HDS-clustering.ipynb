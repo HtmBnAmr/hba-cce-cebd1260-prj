{
 "cells": [
  {
   "cell_type": "markdown",
   "metadata": {},
   "source": [
    "## Hierarchichal clustering for Heart Disease data set"
   ]
  },
  {
   "cell_type": "markdown",
   "metadata": {},
   "source": [
    "### Import libraries ..."
   ]
  },
  {
   "cell_type": "code",
   "execution_count": 72,
   "metadata": {},
   "outputs": [],
   "source": [
    "%matplotlib inline\n",
    "\n",
    "import pandas as pnd\n",
    "import numpy as nmp\n",
    "import matplotlib.pyplot as plt\n",
    "import seaborn as sns\n",
    "\n",
    "from sklearn.metrics.pairwise import euclidean_distances\n",
    "from sklearn.preprocessing import StandardScaler\n",
    "\n",
    "import scipy\n",
    "import scipy.cluster.hierarchy as sch\n",
    "import collections\n",
    "\n",
    "sns.set_style('whitegrid')"
   ]
  },
  {
   "cell_type": "markdown",
   "metadata": {},
   "source": [
    "## Clustering patient by age according to chol, sex, chest pain type, etc"
   ]
  },
  {
   "cell_type": "code",
   "execution_count": 73,
   "metadata": {},
   "outputs": [
    {
     "name": "stdout",
     "output_type": "stream",
     "text": [
      "Index(['age', 'sex', 'cp', 'trestbps', 'chol', 'fbs', 'restecg', 'thalach',\n",
      "       'exang', 'oldpeak', 'slope', 'ca', 'thal', 'goal'],\n",
      "      dtype='object')\n"
     ]
    }
   ],
   "source": [
    "df_clv = pnd.read_csv('C:\\\\Users\\\\hbenamor\\\\Desktop\\\\uc-heartdisease-datafolder\\\\processed.cleveland.data', header = None)\n",
    "df_hds = df_clv\n",
    "# rename columns since the file does not contain names.\n",
    "df_hds.columns=[\"age\", \"sex\", \"cp\", \"trestbps\", \"chol\", \"fbs\", \"restecg\", \"thalach\", \"exang\", \"oldpeak\", \"slope\", \"ca\", \"thal\", \"goal\"]\n",
    "print(df_hds.columns)"
   ]
  },
  {
   "cell_type": "code",
   "execution_count": 74,
   "metadata": {},
   "outputs": [],
   "source": [
    "# 'thal' and 'ca' have bad values '?'. They are set to default \"no issue\" values for each.\n",
    "#df_hds[\"goal\"] = nmp.where(df_hds['goal'] >= 1, 1, df_hds['goal']) \n",
    "df_hds[\"ca\"] = nmp.where(df_hds['ca']=='?', '0.0', df_hds['ca'])\n",
    "df_hds[\"thal\"] = nmp.where(df_hds['thal']=='?', '3.0', df_hds['thal'])"
   ]
  },
  {
   "cell_type": "code",
   "execution_count": 75,
   "metadata": {},
   "outputs": [],
   "source": [
    "# the 2 variables 'thal and 'ca' are categorical and need to be transformed into numeric.\n",
    "df_hds[\"thal\"] = pnd.to_numeric(df_hds['thal'])\n",
    "df_hds[\"ca\"] = pnd.to_numeric(df_hds['ca'])"
   ]
  },
  {
   "cell_type": "code",
   "execution_count": 76,
   "metadata": {},
   "outputs": [
    {
     "data": {
      "text/html": [
       "<div>\n",
       "<style scoped>\n",
       "    .dataframe tbody tr th:only-of-type {\n",
       "        vertical-align: middle;\n",
       "    }\n",
       "\n",
       "    .dataframe tbody tr th {\n",
       "        vertical-align: top;\n",
       "    }\n",
       "\n",
       "    .dataframe thead th {\n",
       "        text-align: right;\n",
       "    }\n",
       "</style>\n",
       "<table border=\"1\" class=\"dataframe\">\n",
       "  <thead>\n",
       "    <tr style=\"text-align: right;\">\n",
       "      <th></th>\n",
       "      <th>age</th>\n",
       "      <th>sex</th>\n",
       "      <th>cp</th>\n",
       "      <th>trestbps</th>\n",
       "      <th>chol</th>\n",
       "      <th>fbs</th>\n",
       "      <th>restecg</th>\n",
       "      <th>thalach</th>\n",
       "      <th>exang</th>\n",
       "      <th>oldpeak</th>\n",
       "      <th>slope</th>\n",
       "      <th>ca</th>\n",
       "      <th>thal</th>\n",
       "      <th>goal</th>\n",
       "    </tr>\n",
       "  </thead>\n",
       "  <tbody>\n",
       "    <tr>\n",
       "      <th>0</th>\n",
       "      <td>63.0</td>\n",
       "      <td>1.0</td>\n",
       "      <td>1.0</td>\n",
       "      <td>145.0</td>\n",
       "      <td>233.0</td>\n",
       "      <td>1.0</td>\n",
       "      <td>2.0</td>\n",
       "      <td>150.0</td>\n",
       "      <td>0.0</td>\n",
       "      <td>2.3</td>\n",
       "      <td>3.0</td>\n",
       "      <td>0.0</td>\n",
       "      <td>6.0</td>\n",
       "      <td>0</td>\n",
       "    </tr>\n",
       "    <tr>\n",
       "      <th>1</th>\n",
       "      <td>67.0</td>\n",
       "      <td>1.0</td>\n",
       "      <td>4.0</td>\n",
       "      <td>160.0</td>\n",
       "      <td>286.0</td>\n",
       "      <td>0.0</td>\n",
       "      <td>2.0</td>\n",
       "      <td>108.0</td>\n",
       "      <td>1.0</td>\n",
       "      <td>1.5</td>\n",
       "      <td>2.0</td>\n",
       "      <td>3.0</td>\n",
       "      <td>3.0</td>\n",
       "      <td>2</td>\n",
       "    </tr>\n",
       "    <tr>\n",
       "      <th>2</th>\n",
       "      <td>67.0</td>\n",
       "      <td>1.0</td>\n",
       "      <td>4.0</td>\n",
       "      <td>120.0</td>\n",
       "      <td>229.0</td>\n",
       "      <td>0.0</td>\n",
       "      <td>2.0</td>\n",
       "      <td>129.0</td>\n",
       "      <td>1.0</td>\n",
       "      <td>2.6</td>\n",
       "      <td>2.0</td>\n",
       "      <td>2.0</td>\n",
       "      <td>7.0</td>\n",
       "      <td>1</td>\n",
       "    </tr>\n",
       "    <tr>\n",
       "      <th>3</th>\n",
       "      <td>37.0</td>\n",
       "      <td>1.0</td>\n",
       "      <td>3.0</td>\n",
       "      <td>130.0</td>\n",
       "      <td>250.0</td>\n",
       "      <td>0.0</td>\n",
       "      <td>0.0</td>\n",
       "      <td>187.0</td>\n",
       "      <td>0.0</td>\n",
       "      <td>3.5</td>\n",
       "      <td>3.0</td>\n",
       "      <td>0.0</td>\n",
       "      <td>3.0</td>\n",
       "      <td>0</td>\n",
       "    </tr>\n",
       "    <tr>\n",
       "      <th>4</th>\n",
       "      <td>41.0</td>\n",
       "      <td>0.0</td>\n",
       "      <td>2.0</td>\n",
       "      <td>130.0</td>\n",
       "      <td>204.0</td>\n",
       "      <td>0.0</td>\n",
       "      <td>2.0</td>\n",
       "      <td>172.0</td>\n",
       "      <td>0.0</td>\n",
       "      <td>1.4</td>\n",
       "      <td>1.0</td>\n",
       "      <td>0.0</td>\n",
       "      <td>3.0</td>\n",
       "      <td>0</td>\n",
       "    </tr>\n",
       "  </tbody>\n",
       "</table>\n",
       "</div>"
      ],
      "text/plain": [
       "    age  sex   cp  trestbps   chol  fbs  restecg  thalach  exang  oldpeak  \\\n",
       "0  63.0  1.0  1.0     145.0  233.0  1.0      2.0    150.0    0.0      2.3   \n",
       "1  67.0  1.0  4.0     160.0  286.0  0.0      2.0    108.0    1.0      1.5   \n",
       "2  67.0  1.0  4.0     120.0  229.0  0.0      2.0    129.0    1.0      2.6   \n",
       "3  37.0  1.0  3.0     130.0  250.0  0.0      0.0    187.0    0.0      3.5   \n",
       "4  41.0  0.0  2.0     130.0  204.0  0.0      2.0    172.0    0.0      1.4   \n",
       "\n",
       "   slope   ca  thal  goal  \n",
       "0    3.0  0.0   6.0     0  \n",
       "1    2.0  3.0   3.0     2  \n",
       "2    2.0  2.0   7.0     1  \n",
       "3    3.0  0.0   3.0     0  \n",
       "4    1.0  0.0   3.0     0  "
      ]
     },
     "execution_count": 76,
     "metadata": {},
     "output_type": "execute_result"
    }
   ],
   "source": [
    "df_hds.head()"
   ]
  },
  {
   "cell_type": "code",
   "execution_count": 77,
   "metadata": {},
   "outputs": [
    {
     "data": {
      "text/html": [
       "<div>\n",
       "<style scoped>\n",
       "    .dataframe tbody tr th:only-of-type {\n",
       "        vertical-align: middle;\n",
       "    }\n",
       "\n",
       "    .dataframe tbody tr th {\n",
       "        vertical-align: top;\n",
       "    }\n",
       "\n",
       "    .dataframe thead th {\n",
       "        text-align: right;\n",
       "    }\n",
       "</style>\n",
       "<table border=\"1\" class=\"dataframe\">\n",
       "  <thead>\n",
       "    <tr style=\"text-align: right;\">\n",
       "      <th></th>\n",
       "      <th>age</th>\n",
       "      <th>sex</th>\n",
       "      <th>cp</th>\n",
       "      <th>trestbps</th>\n",
       "      <th>chol</th>\n",
       "      <th>fbs</th>\n",
       "      <th>restecg</th>\n",
       "      <th>thalach</th>\n",
       "      <th>exang</th>\n",
       "      <th>oldpeak</th>\n",
       "      <th>slope</th>\n",
       "      <th>ca</th>\n",
       "      <th>thal</th>\n",
       "      <th>goal</th>\n",
       "    </tr>\n",
       "  </thead>\n",
       "  <tbody>\n",
       "    <tr>\n",
       "      <th>298</th>\n",
       "      <td>45.0</td>\n",
       "      <td>1.0</td>\n",
       "      <td>1.0</td>\n",
       "      <td>110.0</td>\n",
       "      <td>264.0</td>\n",
       "      <td>0.0</td>\n",
       "      <td>0.0</td>\n",
       "      <td>132.0</td>\n",
       "      <td>0.0</td>\n",
       "      <td>1.2</td>\n",
       "      <td>2.0</td>\n",
       "      <td>0.0</td>\n",
       "      <td>7.0</td>\n",
       "      <td>1</td>\n",
       "    </tr>\n",
       "    <tr>\n",
       "      <th>299</th>\n",
       "      <td>68.0</td>\n",
       "      <td>1.0</td>\n",
       "      <td>4.0</td>\n",
       "      <td>144.0</td>\n",
       "      <td>193.0</td>\n",
       "      <td>1.0</td>\n",
       "      <td>0.0</td>\n",
       "      <td>141.0</td>\n",
       "      <td>0.0</td>\n",
       "      <td>3.4</td>\n",
       "      <td>2.0</td>\n",
       "      <td>2.0</td>\n",
       "      <td>7.0</td>\n",
       "      <td>2</td>\n",
       "    </tr>\n",
       "    <tr>\n",
       "      <th>300</th>\n",
       "      <td>57.0</td>\n",
       "      <td>1.0</td>\n",
       "      <td>4.0</td>\n",
       "      <td>130.0</td>\n",
       "      <td>131.0</td>\n",
       "      <td>0.0</td>\n",
       "      <td>0.0</td>\n",
       "      <td>115.0</td>\n",
       "      <td>1.0</td>\n",
       "      <td>1.2</td>\n",
       "      <td>2.0</td>\n",
       "      <td>1.0</td>\n",
       "      <td>7.0</td>\n",
       "      <td>3</td>\n",
       "    </tr>\n",
       "    <tr>\n",
       "      <th>301</th>\n",
       "      <td>57.0</td>\n",
       "      <td>0.0</td>\n",
       "      <td>2.0</td>\n",
       "      <td>130.0</td>\n",
       "      <td>236.0</td>\n",
       "      <td>0.0</td>\n",
       "      <td>2.0</td>\n",
       "      <td>174.0</td>\n",
       "      <td>0.0</td>\n",
       "      <td>0.0</td>\n",
       "      <td>2.0</td>\n",
       "      <td>1.0</td>\n",
       "      <td>3.0</td>\n",
       "      <td>1</td>\n",
       "    </tr>\n",
       "    <tr>\n",
       "      <th>302</th>\n",
       "      <td>38.0</td>\n",
       "      <td>1.0</td>\n",
       "      <td>3.0</td>\n",
       "      <td>138.0</td>\n",
       "      <td>175.0</td>\n",
       "      <td>0.0</td>\n",
       "      <td>0.0</td>\n",
       "      <td>173.0</td>\n",
       "      <td>0.0</td>\n",
       "      <td>0.0</td>\n",
       "      <td>1.0</td>\n",
       "      <td>0.0</td>\n",
       "      <td>3.0</td>\n",
       "      <td>0</td>\n",
       "    </tr>\n",
       "  </tbody>\n",
       "</table>\n",
       "</div>"
      ],
      "text/plain": [
       "      age  sex   cp  trestbps   chol  fbs  restecg  thalach  exang  oldpeak  \\\n",
       "298  45.0  1.0  1.0     110.0  264.0  0.0      0.0    132.0    0.0      1.2   \n",
       "299  68.0  1.0  4.0     144.0  193.0  1.0      0.0    141.0    0.0      3.4   \n",
       "300  57.0  1.0  4.0     130.0  131.0  0.0      0.0    115.0    1.0      1.2   \n",
       "301  57.0  0.0  2.0     130.0  236.0  0.0      2.0    174.0    0.0      0.0   \n",
       "302  38.0  1.0  3.0     138.0  175.0  0.0      0.0    173.0    0.0      0.0   \n",
       "\n",
       "     slope   ca  thal  goal  \n",
       "298    2.0  0.0   7.0     1  \n",
       "299    2.0  2.0   7.0     2  \n",
       "300    2.0  1.0   7.0     3  \n",
       "301    2.0  1.0   3.0     1  \n",
       "302    1.0  0.0   3.0     0  "
      ]
     },
     "execution_count": 77,
     "metadata": {},
     "output_type": "execute_result"
    }
   ],
   "source": [
    "df_hds.tail()"
   ]
  },
  {
   "cell_type": "markdown",
   "metadata": {},
   "source": [
    "## Feature negineering"
   ]
  },
  {
   "cell_type": "code",
   "execution_count": 78,
   "metadata": {},
   "outputs": [
    {
     "data": {
      "text/html": [
       "<div>\n",
       "<style scoped>\n",
       "    .dataframe tbody tr th:only-of-type {\n",
       "        vertical-align: middle;\n",
       "    }\n",
       "\n",
       "    .dataframe tbody tr th {\n",
       "        vertical-align: top;\n",
       "    }\n",
       "\n",
       "    .dataframe thead th {\n",
       "        text-align: right;\n",
       "    }\n",
       "</style>\n",
       "<table border=\"1\" class=\"dataframe\">\n",
       "  <thead>\n",
       "    <tr style=\"text-align: right;\">\n",
       "      <th></th>\n",
       "      <th>male</th>\n",
       "      <th>female</th>\n",
       "      <th>age</th>\n",
       "      <th>cp</th>\n",
       "      <th>trestbps</th>\n",
       "      <th>chol</th>\n",
       "      <th>fbs</th>\n",
       "      <th>restecg</th>\n",
       "      <th>thalach</th>\n",
       "      <th>exang</th>\n",
       "      <th>oldpeak</th>\n",
       "      <th>slope</th>\n",
       "      <th>ca</th>\n",
       "      <th>thal</th>\n",
       "      <th>goal</th>\n",
       "    </tr>\n",
       "  </thead>\n",
       "  <tbody>\n",
       "    <tr>\n",
       "      <th>0</th>\n",
       "      <td>0</td>\n",
       "      <td>1</td>\n",
       "      <td>63.0</td>\n",
       "      <td>1.0</td>\n",
       "      <td>145.0</td>\n",
       "      <td>233.0</td>\n",
       "      <td>1.0</td>\n",
       "      <td>2.0</td>\n",
       "      <td>150.0</td>\n",
       "      <td>0.0</td>\n",
       "      <td>2.3</td>\n",
       "      <td>3.0</td>\n",
       "      <td>0.0</td>\n",
       "      <td>6.0</td>\n",
       "      <td>0</td>\n",
       "    </tr>\n",
       "    <tr>\n",
       "      <th>1</th>\n",
       "      <td>0</td>\n",
       "      <td>1</td>\n",
       "      <td>67.0</td>\n",
       "      <td>4.0</td>\n",
       "      <td>160.0</td>\n",
       "      <td>286.0</td>\n",
       "      <td>0.0</td>\n",
       "      <td>2.0</td>\n",
       "      <td>108.0</td>\n",
       "      <td>1.0</td>\n",
       "      <td>1.5</td>\n",
       "      <td>2.0</td>\n",
       "      <td>3.0</td>\n",
       "      <td>3.0</td>\n",
       "      <td>2</td>\n",
       "    </tr>\n",
       "    <tr>\n",
       "      <th>2</th>\n",
       "      <td>0</td>\n",
       "      <td>1</td>\n",
       "      <td>67.0</td>\n",
       "      <td>4.0</td>\n",
       "      <td>120.0</td>\n",
       "      <td>229.0</td>\n",
       "      <td>0.0</td>\n",
       "      <td>2.0</td>\n",
       "      <td>129.0</td>\n",
       "      <td>1.0</td>\n",
       "      <td>2.6</td>\n",
       "      <td>2.0</td>\n",
       "      <td>2.0</td>\n",
       "      <td>7.0</td>\n",
       "      <td>1</td>\n",
       "    </tr>\n",
       "    <tr>\n",
       "      <th>3</th>\n",
       "      <td>0</td>\n",
       "      <td>1</td>\n",
       "      <td>37.0</td>\n",
       "      <td>3.0</td>\n",
       "      <td>130.0</td>\n",
       "      <td>250.0</td>\n",
       "      <td>0.0</td>\n",
       "      <td>0.0</td>\n",
       "      <td>187.0</td>\n",
       "      <td>0.0</td>\n",
       "      <td>3.5</td>\n",
       "      <td>3.0</td>\n",
       "      <td>0.0</td>\n",
       "      <td>3.0</td>\n",
       "      <td>0</td>\n",
       "    </tr>\n",
       "    <tr>\n",
       "      <th>4</th>\n",
       "      <td>1</td>\n",
       "      <td>0</td>\n",
       "      <td>41.0</td>\n",
       "      <td>2.0</td>\n",
       "      <td>130.0</td>\n",
       "      <td>204.0</td>\n",
       "      <td>0.0</td>\n",
       "      <td>2.0</td>\n",
       "      <td>172.0</td>\n",
       "      <td>0.0</td>\n",
       "      <td>1.4</td>\n",
       "      <td>1.0</td>\n",
       "      <td>0.0</td>\n",
       "      <td>3.0</td>\n",
       "      <td>0</td>\n",
       "    </tr>\n",
       "  </tbody>\n",
       "</table>\n",
       "</div>"
      ],
      "text/plain": [
       "   male  female   age   cp  trestbps   chol  fbs  restecg  thalach  exang  \\\n",
       "0     0       1  63.0  1.0     145.0  233.0  1.0      2.0    150.0    0.0   \n",
       "1     0       1  67.0  4.0     160.0  286.0  0.0      2.0    108.0    1.0   \n",
       "2     0       1  67.0  4.0     120.0  229.0  0.0      2.0    129.0    1.0   \n",
       "3     0       1  37.0  3.0     130.0  250.0  0.0      0.0    187.0    0.0   \n",
       "4     1       0  41.0  2.0     130.0  204.0  0.0      2.0    172.0    0.0   \n",
       "\n",
       "   oldpeak  slope   ca  thal  goal  \n",
       "0      2.3    3.0  0.0   6.0     0  \n",
       "1      1.5    2.0  3.0   3.0     2  \n",
       "2      2.6    2.0  2.0   7.0     1  \n",
       "3      3.5    3.0  0.0   3.0     0  \n",
       "4      1.4    1.0  0.0   3.0     0  "
      ]
     },
     "execution_count": 78,
     "metadata": {},
     "output_type": "execute_result"
    }
   ],
   "source": [
    "# 'sex' is useless\n",
    "df_sex = pnd.get_dummies(df_hds['sex'])\n",
    "df_sex.columns = ['male', 'female']\n",
    "df_hds = pnd.concat([df_sex, df_hds], axis=1)\n",
    "del df_hds['sex']\n",
    "df_hds.head()"
   ]
  },
  {
   "cell_type": "code",
   "execution_count": 79,
   "metadata": {},
   "outputs": [],
   "source": [
    "# simulate age groups\n",
    "#df_hds[\"age\"] = nmp.where((df_hds[df_hds['age']>= 60]) & (df_hds[df_hds['age']< 70]), '60.0', 'df_hds['age']')\n",
    "df_hds[\"age\"] = nmp.where((df_hds['age']>= 0) & (df_hds['age']< 25), 20.0, df_hds['age'])\n",
    "df_hds[\"age\"] = nmp.where((df_hds['age']>= 25) & (df_hds['age']< 30), 25.0, df_hds['age'])\n",
    "df_hds[\"age\"] = nmp.where((df_hds['age']>= 30) & (df_hds['age']< 35), 30.0, df_hds['age'])\n",
    "df_hds[\"age\"] = nmp.where((df_hds['age']>= 35) & (df_hds['age']< 40), 35.0, df_hds['age'])\n",
    "df_hds[\"age\"] = nmp.where((df_hds['age']>= 40) & (df_hds['age']< 45), 40.0, df_hds['age'])\n",
    "df_hds[\"age\"] = nmp.where((df_hds['age']>= 45) & (df_hds['age']< 50), 45.0, df_hds['age'])\n",
    "df_hds[\"age\"] = nmp.where((df_hds['age']>= 50) & (df_hds['age']< 55), 50.0, df_hds['age'])\n",
    "df_hds[\"age\"] = nmp.where((df_hds['age']>= 55) & (df_hds['age']< 60), 55.0, df_hds['age'])\n",
    "df_hds[\"age\"] = nmp.where((df_hds['age']>= 60) & (df_hds['age']< 65), 60.0, df_hds['age'])\n",
    "df_hds[\"age\"] = nmp.where((df_hds['age']>= 65) & (df_hds['age']< 70), 65.0, df_hds['age'])\n",
    "df_hds[\"age\"] = nmp.where((df_hds['age']>= 70) & (df_hds['age']< 75), 70.0, df_hds['age'])\n",
    "df_hds[\"age\"] = nmp.where((df_hds['age']>= 75) & (df_hds['age']< 80), 75.0, df_hds['age'])\n",
    "df_hds[\"age\"] = nmp.where((df_hds['age']>= 80) & (df_hds['age']< 150), 80.0, df_hds['age'])\n",
    "# select the columns\n",
    "#X_columns = df.columns[2:]\n",
    "X_columns = ['cp', 'trestbps', 'chol', 'fbs', 'restecg', 'thalach', 'exang', 'oldpeak', 'slope', 'ca', 'thal']\n",
    "\n",
    "# normalize the data\n",
    "for col in X_columns:\n",
    "    df_hds[col] = StandardScaler().fit_transform(df_hds[col].values.reshape(-1, 1))"
   ]
  },
  {
   "cell_type": "markdown",
   "metadata": {},
   "source": [
    "## Model training - "
   ]
  },
  {
   "cell_type": "code",
   "execution_count": 80,
   "metadata": {},
   "outputs": [
    {
     "data": {
      "image/png": "[encoded data removed]",
      "text/plain": [
       "<matplotlib.figure.Figure at 0xc339c18>"
      ]
     },
     "metadata": {},
     "output_type": "display_data"
    },
    {
     "name": "stdout",
     "output_type": "stream",
     "text": [
      "{1, 2, 3, 4, 5, 6, 7, 8, 9, 10}\n",
      "Counter({4: 51, 3: 40, 5: 35, 9: 32, 1: 30, 7: 27, 2: 24, 10: 24, 8: 22, 6: 18})\n"
     ]
    }
   ],
   "source": [
    "k = 10\n",
    "color_threshold = 8.\n",
    "d = sch.distance.pdist(df_hds[X_columns])\n",
    "Z= sch.linkage(d, method = 'ward')\n",
    "T = sch.fcluster(Z, k, 'maxclust')\n",
    "P = sch.dendrogram(Z, color_threshold=color_threshold)\n",
    "plt.show()\n",
    "print(set(T))\n",
    "print(collections.Counter(T))\n",
    "df_results = df_hds.copy()\n",
    "df_results['cluster'] = T"
   ]
  },
  {
   "cell_type": "code",
   "execution_count": 81,
   "metadata": {},
   "outputs": [
    {
     "name": "stdout",
     "output_type": "stream",
     "text": [
      "1 30\n",
      "[35.0, 40.0, 40.0, 40.0, 40.0, 45.0, 45.0, 45.0, 50.0, 50.0, 50.0, 50.0, 50.0, 50.0, 50.0, 50.0, 55.0, 55.0, 55.0, 55.0, 55.0, 55.0, 55.0, 60.0, 60.0, 60.0, 60.0, 65.0, 65.0, 65.0]\n",
      "2 24\n",
      "[40.0, 40.0, 45.0, 45.0, 50.0, 50.0, 50.0, 50.0, 50.0, 55.0, 55.0, 55.0, 55.0, 55.0, 60.0, 60.0, 60.0, 65.0, 65.0, 65.0, 65.0, 65.0, 70.0, 75.0]\n",
      "3 40\n",
      "[25.0, 30.0, 35.0, 35.0, 40.0, 40.0, 40.0, 40.0, 40.0, 45.0, 45.0, 45.0, 50.0, 50.0, 50.0, 50.0, 50.0, 50.0, 50.0, 55.0, 55.0, 55.0, 55.0, 55.0, 55.0, 55.0, 55.0, 55.0, 55.0, 60.0, 60.0, 60.0, 60.0, 60.0, 65.0, 65.0, 65.0, 65.0, 70.0, 70.0]\n",
      "4 51\n",
      "[30.0, 35.0, 35.0, 35.0, 35.0, 35.0, 35.0, 40.0, 40.0, 40.0, 40.0, 40.0, 40.0, 40.0, 40.0, 40.0, 40.0, 40.0, 40.0, 40.0, 40.0, 40.0, 40.0, 45.0, 45.0, 45.0, 45.0, 45.0, 45.0, 45.0, 45.0, 50.0, 50.0, 50.0, 50.0, 50.0, 50.0, 50.0, 50.0, 55.0, 55.0, 55.0, 55.0, 55.0, 55.0, 60.0, 60.0, 60.0, 65.0, 65.0, 70.0]\n",
      "5 35\n",
      "[35.0, 35.0, 40.0, 40.0, 40.0, 40.0, 40.0, 40.0, 45.0, 45.0, 45.0, 45.0, 45.0, 45.0, 45.0, 50.0, 50.0, 50.0, 50.0, 50.0, 50.0, 50.0, 50.0, 55.0, 55.0, 55.0, 55.0, 60.0, 60.0, 60.0, 60.0, 60.0, 60.0, 65.0, 65.0]\n",
      "6 18\n",
      "[45.0, 45.0, 50.0, 50.0, 50.0, 50.0, 50.0, 55.0, 55.0, 55.0, 55.0, 55.0, 60.0, 60.0, 65.0, 65.0, 65.0, 70.0]\n",
      "7 27\n",
      "[40.0, 40.0, 40.0, 45.0, 50.0, 50.0, 50.0, 50.0, 50.0, 50.0, 55.0, 55.0, 55.0, 55.0, 55.0, 55.0, 55.0, 55.0, 60.0, 60.0, 60.0, 60.0, 60.0, 65.0, 65.0, 65.0, 65.0]\n",
      "8 22\n",
      "[45.0, 45.0, 45.0, 55.0, 55.0, 55.0, 55.0, 55.0, 60.0, 60.0, 60.0, 60.0, 60.0, 60.0, 60.0, 60.0, 65.0, 65.0, 65.0, 65.0, 70.0, 75.0]\n",
      "9 32\n",
      "[35.0, 40.0, 40.0, 40.0, 45.0, 45.0, 50.0, 50.0, 50.0, 50.0, 55.0, 55.0, 55.0, 55.0, 55.0, 55.0, 55.0, 55.0, 55.0, 55.0, 60.0, 60.0, 60.0, 60.0, 60.0, 60.0, 60.0, 60.0, 65.0, 65.0, 65.0, 70.0]\n",
      "10 24\n",
      "[40.0, 45.0, 50.0, 50.0, 50.0, 50.0, 50.0, 55.0, 55.0, 55.0, 55.0, 55.0, 55.0, 55.0, 55.0, 55.0, 60.0, 60.0, 60.0, 60.0, 60.0, 60.0, 65.0, 70.0]\n"
     ]
    }
   ],
   "source": [
    "# Analyze the results\n",
    "for cluster in set(T):\n",
    "    print((cluster), (len(df_results[df_results['cluster']==cluster]['age'])))\n",
    "    print(sorted(list(df_results[df_results['cluster']==cluster]['age'])))"
   ]
  },
  {
   "cell_type": "code",
   "execution_count": 82,
   "metadata": {},
   "outputs": [],
   "source": [
    "# select the columns: remove 'fbs', not really pertinent\n",
    "#X_columns = df.columns[2:]\n",
    "X_columns = ['cp', 'trestbps', 'chol', 'restecg', 'thalach', 'exang', 'oldpeak', 'slope', 'ca', 'thal']\n",
    "\n",
    "# normalize the data\n",
    "for col in X_columns:\n",
    "    df_hds[col] = StandardScaler().fit_transform(df_hds[col].values.reshape(-1, 1))"
   ]
  },
  {
   "cell_type": "code",
   "execution_count": 83,
   "metadata": {},
   "outputs": [
    {
     "data": {
      "image/png": "[encoded data removed]",
      "text/plain": [
       "<matplotlib.figure.Figure at 0xc0fa6d8>"
      ]
     },
     "metadata": {},
     "output_type": "display_data"
    },
    {
     "name": "stdout",
     "output_type": "stream",
     "text": [
      "{1, 2, 3, 4, 5, 6, 7, 8, 9, 10}\n",
      "Counter({8: 62, 1: 57, 10: 32, 4: 30, 2: 25, 5: 24, 6: 21, 7: 21, 3: 20, 9: 11})\n"
     ]
    }
   ],
   "source": [
    "k = 10\n",
    "color_threshold = 8.\n",
    "d = sch.distance.pdist(df_hds[X_columns])\n",
    "Z= sch.linkage(d, method = 'ward')\n",
    "T = sch.fcluster(Z, k, 'maxclust')\n",
    "P = sch.dendrogram(Z, color_threshold=color_threshold)\n",
    "plt.show()\n",
    "print(set(T))\n",
    "print(collections.Counter(T))\n",
    "df_results = df_hds.copy()\n",
    "df_results['cluster'] = T"
   ]
  },
  {
   "cell_type": "code",
   "execution_count": 84,
   "metadata": {},
   "outputs": [
    {
     "name": "stdout",
     "output_type": "stream",
     "text": [
      "1 57\n",
      "[35.0, 35.0, 40.0, 40.0, 40.0, 40.0, 40.0, 40.0, 45.0, 45.0, 45.0, 45.0, 50.0, 50.0, 50.0, 50.0, 50.0, 50.0, 50.0, 50.0, 50.0, 55.0, 55.0, 55.0, 55.0, 55.0, 55.0, 55.0, 55.0, 55.0, 55.0, 55.0, 55.0, 55.0, 55.0, 55.0, 55.0, 55.0, 55.0, 55.0, 55.0, 60.0, 60.0, 60.0, 60.0, 60.0, 60.0, 60.0, 60.0, 60.0, 60.0, 60.0, 60.0, 60.0, 65.0, 70.0, 70.0]\n",
      "2 25\n",
      "[45.0, 50.0, 55.0, 55.0, 55.0, 55.0, 55.0, 55.0, 55.0, 55.0, 60.0, 60.0, 60.0, 60.0, 60.0, 60.0, 60.0, 60.0, 65.0, 65.0, 65.0, 65.0, 65.0, 65.0, 70.0]\n",
      "3 20\n",
      "[35.0, 40.0, 40.0, 40.0, 40.0, 45.0, 45.0, 45.0, 50.0, 50.0, 50.0, 55.0, 55.0, 55.0, 55.0, 55.0, 60.0, 60.0, 65.0, 65.0]\n",
      "4 30\n",
      "[40.0, 40.0, 45.0, 45.0, 45.0, 50.0, 50.0, 50.0, 50.0, 50.0, 50.0, 50.0, 55.0, 55.0, 55.0, 55.0, 55.0, 55.0, 60.0, 60.0, 60.0, 60.0, 65.0, 65.0, 65.0, 65.0, 65.0, 65.0, 65.0, 75.0]\n",
      "5 24\n",
      "[35.0, 40.0, 40.0, 40.0, 45.0, 45.0, 45.0, 45.0, 50.0, 50.0, 50.0, 50.0, 50.0, 55.0, 55.0, 55.0, 60.0, 60.0, 60.0, 60.0, 65.0, 65.0, 65.0, 70.0]\n",
      "6 21\n",
      "[40.0, 40.0, 40.0, 50.0, 50.0, 50.0, 50.0, 50.0, 50.0, 55.0, 55.0, 55.0, 55.0, 55.0, 60.0, 60.0, 60.0, 60.0, 60.0, 60.0, 60.0]\n",
      "7 21\n",
      "[40.0, 45.0, 45.0, 45.0, 50.0, 50.0, 50.0, 50.0, 55.0, 55.0, 55.0, 60.0, 60.0, 65.0, 65.0, 65.0, 65.0, 65.0, 65.0, 70.0, 75.0]\n",
      "8 62\n",
      "[30.0, 35.0, 35.0, 35.0, 35.0, 35.0, 35.0, 40.0, 40.0, 40.0, 40.0, 40.0, 40.0, 40.0, 40.0, 40.0, 40.0, 40.0, 40.0, 40.0, 40.0, 40.0, 40.0, 45.0, 45.0, 45.0, 45.0, 45.0, 45.0, 45.0, 45.0, 45.0, 45.0, 50.0, 50.0, 50.0, 50.0, 50.0, 50.0, 50.0, 50.0, 50.0, 50.0, 50.0, 55.0, 55.0, 55.0, 55.0, 55.0, 55.0, 55.0, 55.0, 60.0, 60.0, 60.0, 60.0, 60.0, 60.0, 65.0, 65.0, 65.0, 70.0]\n",
      "9 11\n",
      "[35.0, 40.0, 45.0, 45.0, 50.0, 50.0, 50.0, 55.0, 60.0, 60.0, 65.0]\n",
      "10 32\n",
      "[25.0, 30.0, 35.0, 40.0, 40.0, 40.0, 40.0, 45.0, 45.0, 50.0, 50.0, 50.0, 50.0, 50.0, 50.0, 50.0, 55.0, 55.0, 55.0, 55.0, 55.0, 55.0, 55.0, 55.0, 55.0, 55.0, 60.0, 60.0, 65.0, 65.0, 70.0, 70.0]\n"
     ]
    }
   ],
   "source": [
    "# Analyze the results\n",
    "for cluster in set(T):\n",
    "    print((cluster), (len(df_results[df_results['cluster']==cluster]['age'])))\n",
    "    print(sorted(list(df_results[df_results['cluster']==cluster]['age'])))"
   ]
  },
  {
   "cell_type": "code",
   "execution_count": 85,
   "metadata": {},
   "outputs": [],
   "source": [
    "#remove restecg\n",
    "#X_columns = df.columns[2:]\n",
    "X_columns = ['cp', 'trestbps', 'chol', 'thalach', 'exang', 'oldpeak', 'slope', 'ca', 'thal']\n",
    "\n",
    "# normalize the data\n",
    "for col in X_columns:\n",
    "    df_hds[col] = StandardScaler().fit_transform(df_hds[col].values.reshape(-1, 1))"
   ]
  },
  {
   "cell_type": "code",
   "execution_count": 86,
   "metadata": {},
   "outputs": [
    {
     "data": {
      "image/png": "[encoded data removed]",
      "text/plain": [
       "<matplotlib.figure.Figure at 0xc049c18>"
      ]
     },
     "metadata": {},
     "output_type": "display_data"
    },
    {
     "name": "stdout",
     "output_type": "stream",
     "text": [
      "{1, 2, 3, 4, 5, 6, 7, 8, 9, 10}\n",
      "Counter({4: 51, 5: 42, 6: 33, 3: 33, 9: 30, 7: 30, 1: 29, 8: 28, 10: 19, 2: 8})\n"
     ]
    }
   ],
   "source": [
    "k = 10\n",
    "color_threshold = 8.\n",
    "d = sch.distance.pdist(df_hds[X_columns])\n",
    "Z= sch.linkage(d, method = 'ward')\n",
    "T = sch.fcluster(Z, k, 'maxclust')\n",
    "P = sch.dendrogram(Z, color_threshold=color_threshold)\n",
    "plt.show()\n",
    "print(set(T))\n",
    "print(collections.Counter(T))\n",
    "df_results = df_hds.copy()\n",
    "df_results['cluster'] = T"
   ]
  },
  {
   "cell_type": "code",
   "execution_count": 87,
   "metadata": {},
   "outputs": [
    {
     "name": "stdout",
     "output_type": "stream",
     "text": [
      "1 29\n",
      "[45.0, 45.0, 50.0, 55.0, 55.0, 55.0, 55.0, 55.0, 55.0, 55.0, 55.0, 60.0, 60.0, 60.0, 60.0, 60.0, 60.0, 60.0, 60.0, 60.0, 60.0, 60.0, 65.0, 65.0, 65.0, 65.0, 65.0, 65.0, 70.0]\n",
      "2 8\n",
      "[55.0, 55.0, 55.0, 55.0, 55.0, 65.0, 65.0, 70.0]\n",
      "3 33\n",
      "[35.0, 40.0, 40.0, 40.0, 40.0, 40.0, 40.0, 50.0, 50.0, 50.0, 50.0, 50.0, 50.0, 50.0, 55.0, 55.0, 55.0, 55.0, 55.0, 55.0, 55.0, 55.0, 55.0, 55.0, 55.0, 55.0, 60.0, 60.0, 60.0, 60.0, 60.0, 60.0, 70.0]\n",
      "4 51\n",
      "[25.0, 30.0, 30.0, 35.0, 35.0, 35.0, 35.0, 35.0, 40.0, 40.0, 40.0, 40.0, 40.0, 40.0, 40.0, 40.0, 40.0, 40.0, 40.0, 40.0, 40.0, 40.0, 45.0, 45.0, 45.0, 45.0, 45.0, 45.0, 45.0, 50.0, 50.0, 50.0, 50.0, 50.0, 50.0, 50.0, 50.0, 50.0, 50.0, 55.0, 55.0, 55.0, 55.0, 55.0, 55.0, 60.0, 60.0, 60.0, 60.0, 65.0, 70.0]\n",
      "5 42\n",
      "[35.0, 40.0, 40.0, 40.0, 40.0, 45.0, 45.0, 45.0, 45.0, 45.0, 45.0, 50.0, 50.0, 50.0, 50.0, 50.0, 50.0, 50.0, 55.0, 55.0, 55.0, 55.0, 55.0, 55.0, 55.0, 55.0, 60.0, 60.0, 60.0, 60.0, 60.0, 60.0, 60.0, 60.0, 65.0, 65.0, 65.0, 65.0, 65.0, 65.0, 70.0, 70.0]\n",
      "6 33\n",
      "[35.0, 40.0, 40.0, 40.0, 40.0, 45.0, 45.0, 45.0, 50.0, 50.0, 50.0, 50.0, 50.0, 50.0, 50.0, 55.0, 55.0, 55.0, 55.0, 55.0, 55.0, 55.0, 55.0, 60.0, 60.0, 60.0, 60.0, 60.0, 65.0, 65.0, 65.0, 65.0, 65.0]\n",
      "7 30\n",
      "[35.0, 40.0, 40.0, 45.0, 45.0, 50.0, 50.0, 50.0, 50.0, 50.0, 50.0, 50.0, 55.0, 55.0, 55.0, 55.0, 55.0, 55.0, 55.0, 55.0, 55.0, 60.0, 60.0, 60.0, 60.0, 60.0, 65.0, 65.0, 65.0, 75.0]\n",
      "8 28\n",
      "[40.0, 45.0, 45.0, 45.0, 45.0, 45.0, 50.0, 50.0, 50.0, 50.0, 50.0, 50.0, 55.0, 55.0, 55.0, 55.0, 60.0, 60.0, 60.0, 60.0, 60.0, 60.0, 65.0, 65.0, 65.0, 65.0, 70.0, 75.0]\n",
      "9 30\n",
      "[35.0, 35.0, 40.0, 40.0, 40.0, 40.0, 40.0, 40.0, 45.0, 45.0, 45.0, 45.0, 45.0, 50.0, 50.0, 50.0, 50.0, 50.0, 50.0, 50.0, 55.0, 55.0, 55.0, 55.0, 55.0, 60.0, 60.0, 65.0, 65.0, 65.0]\n",
      "10 19\n",
      "[35.0, 40.0, 40.0, 40.0, 45.0, 45.0, 50.0, 50.0, 50.0, 50.0, 55.0, 55.0, 55.0, 55.0, 60.0, 60.0, 60.0, 65.0, 70.0]\n"
     ]
    }
   ],
   "source": [
    "# Analyze the results\n",
    "for cluster in set(T):\n",
    "    print((cluster), (len(df_results[df_results['cluster']==cluster]['age'])))\n",
    "    print(sorted(list(df_results[df_results['cluster']==cluster]['age'])))"
   ]
  },
  {
   "cell_type": "code",
   "execution_count": 88,
   "metadata": {},
   "outputs": [
    {
     "data": {
      "image/png": "[encoded data removed]",
      "text/plain": [
       "<matplotlib.figure.Figure at 0xc00eac8>"
      ]
     },
     "metadata": {},
     "output_type": "display_data"
    },
    {
     "name": "stdout",
     "output_type": "stream",
     "text": [
      "{1, 2, 3, 4, 5}\n",
      "Counter({2: 93, 1: 70, 3: 63, 5: 49, 4: 28})\n"
     ]
    }
   ],
   "source": [
    "#less clusters\n",
    "k = 5\n",
    "color_threshold = 8.\n",
    "d = sch.distance.pdist(df_hds[X_columns])\n",
    "Z= sch.linkage(d, method = 'ward')\n",
    "T = sch.fcluster(Z, k, 'maxclust')\n",
    "P = sch.dendrogram(Z, color_threshold=color_threshold)\n",
    "plt.show()\n",
    "print(set(T))\n",
    "print(collections.Counter(T))\n",
    "df_results = df_hds.copy()\n",
    "df_results['cluster'] = T"
   ]
  },
  {
   "cell_type": "code",
   "execution_count": 89,
   "metadata": {},
   "outputs": [
    {
     "name": "stdout",
     "output_type": "stream",
     "text": [
      "1 70\n",
      "[35.0, 40.0, 40.0, 40.0, 40.0, 40.0, 40.0, 45.0, 45.0, 50.0, 50.0, 50.0, 50.0, 50.0, 50.0, 50.0, 50.0, 55.0, 55.0, 55.0, 55.0, 55.0, 55.0, 55.0, 55.0, 55.0, 55.0, 55.0, 55.0, 55.0, 55.0, 55.0, 55.0, 55.0, 55.0, 55.0, 55.0, 55.0, 55.0, 55.0, 55.0, 55.0, 60.0, 60.0, 60.0, 60.0, 60.0, 60.0, 60.0, 60.0, 60.0, 60.0, 60.0, 60.0, 60.0, 60.0, 60.0, 60.0, 60.0, 65.0, 65.0, 65.0, 65.0, 65.0, 65.0, 65.0, 65.0, 70.0, 70.0, 70.0]\n",
      "2 93\n",
      "[25.0, 30.0, 30.0, 35.0, 35.0, 35.0, 35.0, 35.0, 35.0, 40.0, 40.0, 40.0, 40.0, 40.0, 40.0, 40.0, 40.0, 40.0, 40.0, 40.0, 40.0, 40.0, 40.0, 40.0, 40.0, 40.0, 40.0, 45.0, 45.0, 45.0, 45.0, 45.0, 45.0, 45.0, 45.0, 45.0, 45.0, 45.0, 45.0, 45.0, 50.0, 50.0, 50.0, 50.0, 50.0, 50.0, 50.0, 50.0, 50.0, 50.0, 50.0, 50.0, 50.0, 50.0, 50.0, 50.0, 50.0, 55.0, 55.0, 55.0, 55.0, 55.0, 55.0, 55.0, 55.0, 55.0, 55.0, 55.0, 55.0, 55.0, 55.0, 60.0, 60.0, 60.0, 60.0, 60.0, 60.0, 60.0, 60.0, 60.0, 60.0, 60.0, 60.0, 65.0, 65.0, 65.0, 65.0, 65.0, 65.0, 65.0, 70.0, 70.0, 70.0]\n",
      "3 63\n",
      "[35.0, 35.0, 40.0, 40.0, 40.0, 40.0, 40.0, 40.0, 45.0, 45.0, 45.0, 45.0, 45.0, 50.0, 50.0, 50.0, 50.0, 50.0, 50.0, 50.0, 50.0, 50.0, 50.0, 50.0, 50.0, 50.0, 50.0, 55.0, 55.0, 55.0, 55.0, 55.0, 55.0, 55.0, 55.0, 55.0, 55.0, 55.0, 55.0, 55.0, 55.0, 55.0, 55.0, 55.0, 60.0, 60.0, 60.0, 60.0, 60.0, 60.0, 60.0, 60.0, 60.0, 60.0, 65.0, 65.0, 65.0, 65.0, 65.0, 65.0, 65.0, 65.0, 75.0]\n",
      "4 28\n",
      "[40.0, 45.0, 45.0, 45.0, 45.0, 45.0, 50.0, 50.0, 50.0, 50.0, 50.0, 50.0, 55.0, 55.0, 55.0, 55.0, 60.0, 60.0, 60.0, 60.0, 60.0, 60.0, 65.0, 65.0, 65.0, 65.0, 70.0, 75.0]\n",
      "5 49\n",
      "[35.0, 35.0, 35.0, 40.0, 40.0, 40.0, 40.0, 40.0, 40.0, 40.0, 40.0, 40.0, 45.0, 45.0, 45.0, 45.0, 45.0, 45.0, 45.0, 50.0, 50.0, 50.0, 50.0, 50.0, 50.0, 50.0, 50.0, 50.0, 50.0, 50.0, 55.0, 55.0, 55.0, 55.0, 55.0, 55.0, 55.0, 55.0, 55.0, 60.0, 60.0, 60.0, 60.0, 60.0, 65.0, 65.0, 65.0, 65.0, 70.0]\n"
     ]
    }
   ],
   "source": [
    "# Analyze the results\n",
    "for cluster in set(T):\n",
    "    print((cluster), (len(df_results[df_results['cluster']==cluster]['age'])))\n",
    "    print(sorted(list(df_results[df_results['cluster']==cluster]['age'])))"
   ]
  },
  {
   "cell_type": "code",
   "execution_count": 90,
   "metadata": {},
   "outputs": [],
   "source": [
    "# select the columns: not really pertinent; remove blood sugar\n",
    "# keep only variables that appeared as most significant in previous analysis: \n",
    "#X_columns = df.columns[2:]\n",
    "X_columns = ['cp', 'chol', 'exang', 'oldpeak', 'ca', 'thal']\n",
    "\n",
    "# normalize the data\n",
    "for col in X_columns:\n",
    "    df_hds[col] = StandardScaler().fit_transform(df_hds[col].values.reshape(-1, 1))"
   ]
  },
  {
   "cell_type": "code",
   "execution_count": 91,
   "metadata": {},
   "outputs": [
    {
     "data": {
      "image/png": "[encoded data removed]",
      "text/plain": [
       "<matplotlib.figure.Figure at 0xb7cc278>"
      ]
     },
     "metadata": {},
     "output_type": "display_data"
    },
    {
     "name": "stdout",
     "output_type": "stream",
     "text": [
      "{1, 2, 3, 4, 5}\n",
      "Counter({1: 93, 3: 93, 5: 43, 2: 43, 4: 31})\n"
     ]
    }
   ],
   "source": [
    "#less clusters\n",
    "k = 5\n",
    "color_threshold = 8.\n",
    "d = sch.distance.pdist(df_hds[X_columns])\n",
    "Z= sch.linkage(d, method = 'ward')\n",
    "T = sch.fcluster(Z, k, 'maxclust')\n",
    "P = sch.dendrogram(Z, color_threshold=color_threshold)\n",
    "plt.show()\n",
    "print(set(T))\n",
    "print(collections.Counter(T))\n",
    "df_results = df_hds.copy()\n",
    "df_results['cluster'] = T"
   ]
  },
  {
   "cell_type": "code",
   "execution_count": 92,
   "metadata": {},
   "outputs": [
    {
     "name": "stdout",
     "output_type": "stream",
     "text": [
      "1 93\n",
      "[35.0, 35.0, 40.0, 40.0, 40.0, 40.0, 40.0, 40.0, 40.0, 40.0, 45.0, 45.0, 45.0, 45.0, 45.0, 45.0, 45.0, 45.0, 50.0, 50.0, 50.0, 50.0, 50.0, 50.0, 50.0, 50.0, 50.0, 50.0, 50.0, 50.0, 50.0, 50.0, 50.0, 50.0, 55.0, 55.0, 55.0, 55.0, 55.0, 55.0, 55.0, 55.0, 55.0, 55.0, 55.0, 55.0, 55.0, 55.0, 55.0, 55.0, 55.0, 55.0, 55.0, 55.0, 55.0, 55.0, 55.0, 55.0, 55.0, 55.0, 55.0, 55.0, 55.0, 60.0, 60.0, 60.0, 60.0, 60.0, 60.0, 60.0, 60.0, 60.0, 60.0, 60.0, 60.0, 60.0, 60.0, 60.0, 60.0, 60.0, 60.0, 60.0, 60.0, 65.0, 65.0, 65.0, 65.0, 65.0, 65.0, 65.0, 70.0, 70.0, 75.0]\n",
      "2 43\n",
      "[25.0, 30.0, 30.0, 35.0, 40.0, 40.0, 40.0, 40.0, 40.0, 40.0, 40.0, 45.0, 45.0, 45.0, 45.0, 45.0, 45.0, 50.0, 50.0, 50.0, 50.0, 50.0, 55.0, 55.0, 55.0, 55.0, 55.0, 55.0, 55.0, 55.0, 55.0, 55.0, 55.0, 60.0, 60.0, 60.0, 60.0, 60.0, 65.0, 65.0, 65.0, 70.0, 70.0]\n",
      "3 93\n",
      "[35.0, 35.0, 35.0, 35.0, 35.0, 35.0, 35.0, 40.0, 40.0, 40.0, 40.0, 40.0, 40.0, 40.0, 40.0, 40.0, 40.0, 40.0, 40.0, 40.0, 40.0, 40.0, 40.0, 40.0, 40.0, 45.0, 45.0, 45.0, 45.0, 45.0, 45.0, 45.0, 45.0, 45.0, 45.0, 45.0, 45.0, 50.0, 50.0, 50.0, 50.0, 50.0, 50.0, 50.0, 50.0, 50.0, 50.0, 50.0, 50.0, 50.0, 50.0, 50.0, 50.0, 50.0, 50.0, 50.0, 50.0, 50.0, 50.0, 50.0, 55.0, 55.0, 55.0, 55.0, 55.0, 55.0, 55.0, 55.0, 55.0, 55.0, 60.0, 60.0, 60.0, 60.0, 60.0, 60.0, 60.0, 60.0, 60.0, 65.0, 65.0, 65.0, 65.0, 65.0, 65.0, 65.0, 65.0, 65.0, 65.0, 70.0, 70.0, 70.0, 75.0]\n",
      "4 31\n",
      "[45.0, 50.0, 50.0, 50.0, 50.0, 55.0, 55.0, 55.0, 55.0, 55.0, 55.0, 55.0, 55.0, 60.0, 60.0, 60.0, 60.0, 60.0, 60.0, 60.0, 60.0, 60.0, 60.0, 65.0, 65.0, 65.0, 65.0, 65.0, 65.0, 65.0, 70.0]\n",
      "5 43\n",
      "[35.0, 35.0, 40.0, 40.0, 40.0, 40.0, 40.0, 40.0, 40.0, 45.0, 45.0, 45.0, 45.0, 45.0, 50.0, 50.0, 50.0, 50.0, 50.0, 50.0, 50.0, 50.0, 55.0, 55.0, 55.0, 55.0, 55.0, 55.0, 55.0, 55.0, 55.0, 55.0, 55.0, 60.0, 60.0, 60.0, 60.0, 60.0, 60.0, 65.0, 65.0, 65.0, 65.0]\n"
     ]
    }
   ],
   "source": [
    "# Analyze the results\n",
    "for cluster in set(T):\n",
    "    print((cluster), (len(df_results[df_results['cluster']==cluster]['age'])))\n",
    "    print(sorted(list(df_results[df_results['cluster']==cluster]['age'])))"
   ]
  },
  {
   "cell_type": "code",
   "execution_count": 93,
   "metadata": {},
   "outputs": [
    {
     "name": "stdout",
     "output_type": "stream",
     "text": [
      "    cluster   age  id\n",
      "0         1  35.0   2\n",
      "1         1  40.0   8\n",
      "2         1  45.0   8\n",
      "3         1  50.0  16\n",
      "4         1  55.0  29\n",
      "5         1  60.0  20\n",
      "6         1  65.0   7\n",
      "7         1  70.0   2\n",
      "8         1  75.0   1\n",
      "9         2  25.0   1\n",
      "10        2  30.0   2\n",
      "11        2  35.0   1\n",
      "12        2  40.0   7\n",
      "13        2  45.0   6\n",
      "14        2  50.0   5\n",
      "15        2  55.0  11\n",
      "16        2  60.0   5\n",
      "17        2  65.0   3\n",
      "18        2  70.0   2\n",
      "19        3  35.0   7\n",
      "20        3  40.0  18\n",
      "21        3  45.0  12\n",
      "22        3  50.0  23\n",
      "23        3  55.0  10\n",
      "24        3  60.0   9\n",
      "25        3  65.0  10\n",
      "26        3  70.0   3\n",
      "27        3  75.0   1\n",
      "28        4  45.0   1\n",
      "29        4  50.0   4\n",
      "30        4  55.0   8\n",
      "31        4  60.0  10\n",
      "32        4  65.0   7\n",
      "33        4  70.0   1\n",
      "34        5  35.0   2\n",
      "35        5  40.0   7\n",
      "36        5  45.0   5\n",
      "37        5  50.0   8\n",
      "38        5  55.0  11\n",
      "39        5  60.0   6\n",
      "40        5  65.0   4\n",
      "1 9\n",
      "[35.0, 40.0, 45.0, 50.0, 55.0, 60.0, 65.0, 70.0, 75.0]\n",
      "[2, 8, 8, 16, 29, 20, 7, 2, 1]\n",
      "2 10\n",
      "[25.0, 30.0, 35.0, 40.0, 45.0, 50.0, 55.0, 60.0, 65.0, 70.0]\n",
      "[1, 2, 1, 7, 6, 5, 11, 5, 3, 2]\n",
      "3 9\n",
      "[35.0, 40.0, 45.0, 50.0, 55.0, 60.0, 65.0, 70.0, 75.0]\n",
      "[7, 18, 12, 23, 10, 9, 10, 3, 1]\n",
      "4 6\n",
      "[45.0, 50.0, 55.0, 60.0, 65.0, 70.0]\n",
      "[1, 4, 8, 10, 7, 1]\n",
      "5 7\n",
      "[35.0, 40.0, 45.0, 50.0, 55.0, 60.0, 65.0]\n",
      "[2, 7, 5, 8, 11, 6, 4]\n"
     ]
    }
   ],
   "source": [
    "# display clusters with the frequency of age intervals\n",
    "\n",
    "# add id column\n",
    "df_results_copy = df_results.copy()\n",
    "df_id = pnd.DataFrame({'id': range(0, len(df_results), 1)})\n",
    "df_results_copy = pnd.concat([df_id, df_results_copy], axis=1)\n",
    "df_results_group = df_results_copy.groupby(['cluster', 'age'])['id'].count().reset_index()\n",
    "print(df_results_group)\n",
    "for cluster in set(T):\n",
    "    print((cluster), (len(df_results_group[df_results_group['cluster']==cluster]['age'])))\n",
    "    print(list(df_results_group[df_results_group['cluster']==cluster]['age']))\n",
    "    print(list(df_results_group[df_results_group['cluster']==cluster]['id']))"
   ]
  },
  {
   "cell_type": "markdown",
   "metadata": {},
   "source": [
    "The frequency distribution within clusters seem to follow a normal distribution around age intervals [55, 60[ or [60, 65[ which is similar to the age distribution in the whole population.\n",
    "Age does not seem to be a good variable ages does not seem to lead to any particular pattern or relation.\n",
    "                                                                                                                        "
   ]
  },
  {
   "cell_type": "markdown",
   "metadata": {},
   "source": [
    "## Clustering patient by goal (number of major vessels with more than 50% diameter narrowing) according to age, sex, chest pain type, etc"
   ]
  },
  {
   "cell_type": "code",
   "execution_count": 104,
   "metadata": {},
   "outputs": [
    {
     "name": "stdout",
     "output_type": "stream",
     "text": [
      "Index(['goal', 'age', 'sex', 'cp', 'trestbps', 'chol', 'fbs', 'restecg',\n",
      "       'thalach', 'exang', 'oldpeak', 'slope', 'ca', 'thal'],\n",
      "      dtype='object')\n"
     ]
    }
   ],
   "source": [
    "df_clv = pnd.read_csv('C:\\\\Users\\\\hbenamor\\\\Desktop\\\\uc-heartdisease-datafolder\\\\processed.cleveland.data', header = None)\n",
    "df_hds = df_clv\n",
    "# rename columns since the file does not contain names.\n",
    "df_hds.columns=[\"age\", \"sex\", \"cp\", \"trestbps\", \"chol\", \"fbs\", \"restecg\", \"thalach\", \"exang\", \"oldpeak\", \"slope\", \"ca\", \"thal\", \"goal\"]\n",
    "df_mod=df_hds[['goal', 'age', 'sex', 'cp', 'trestbps', 'chol', 'fbs', 'restecg', 'thalach', 'exang', 'oldpeak', 'slope', 'ca', 'thal']]\n",
    "print(df_mod.columns)\n",
    "# 'thal' and 'ca' have bad values '?'. They are set to default \"no issue\" values for each.\n",
    "df_mod[\"ca\"] = nmp.where(df_mod['ca']=='?', '0.0', df_mod['ca'])\n",
    "df_mod[\"thal\"] = nmp.where(df_mod['thal']=='?', '3.0', df_mod['thal'])\n",
    "# the 2 variables 'thal and 'ca' are categorical and need to be transformed into numeric.\n",
    "df_mod[\"thal\"] = pnd.to_numeric(df_mod['thal'])\n",
    "df_mod[\"ca\"] = pnd.to_numeric(df_mod['ca'])\n",
    "# simulate age groups\n",
    "df_mod[\"age\"] = nmp.where((df_mod['age']>= 0) & (df_mod['age']< 25), 20.0, df_mod['age'])\n",
    "df_mod[\"age\"] = nmp.where((df_mod['age']>= 25) & (df_mod['age']< 30), 25.0, df_mod['age'])\n",
    "df_mod[\"age\"] = nmp.where((df_mod['age']>= 30) & (df_mod['age']< 35), 30.0, df_mod['age'])\n",
    "df_mod[\"age\"] = nmp.where((df_mod['age']>= 35) & (df_mod['age']< 40), 35.0, df_mod['age'])\n",
    "df_mod[\"age\"] = nmp.where((df_mod['age']>= 40) & (df_mod['age']< 45), 40.0, df_mod['age'])\n",
    "df_mod[\"age\"] = nmp.where((df_mod['age']>= 45) & (df_mod['age']< 50), 45.0, df_mod['age'])\n",
    "df_mod[\"age\"] = nmp.where((df_mod['age']>= 50) & (df_mod['age']< 55), 50.0, df_mod['age'])\n",
    "df_mod[\"age\"] = nmp.where((df_mod['age']>= 55) & (df_mod['age']< 60), 55.0, df_mod['age'])\n",
    "df_mod[\"age\"] = nmp.where((df_mod['age']>= 60) & (df_mod['age']< 65), 60.0, df_mod['age'])\n",
    "df_mod[\"age\"] = nmp.where((df_mod['age']>= 65) & (df_mod['age']< 70), 65.0, df_mod['age'])\n",
    "df_mod[\"age\"] = nmp.where((df_mod['age']>= 70) & (df_mod['age']< 75), 70.0, df_mod['age'])\n",
    "df_mod[\"age\"] = nmp.where((df_mod['age']>= 75) & (df_mod['age']< 80), 75.0, df_mod['age'])\n",
    "df_mod[\"age\"] = nmp.where((df_mod['age']>= 80) & (df_mod['age']< 150), 80.0, df_mod['age'])\n",
    "\n",
    "# select the columns\n",
    "#X_columns = df.columns[2:]\n",
    "X_columns = ['age', 'cp', 'trestbps', 'chol', 'thalach', 'exang', 'oldpeak', 'slope', 'ca', 'thal']\n",
    "\n",
    "# normalize the data\n",
    "for col in X_columns:\n",
    "    df_mod[col] = StandardScaler().fit_transform(df_mod[col].values.reshape(-1, 1))"
   ]
  },
  {
   "cell_type": "code",
   "execution_count": 111,
   "metadata": {},
   "outputs": [
    {
     "data": {
      "image/png": "[encoded data removed]",
      "text/plain": [
       "<matplotlib.figure.Figure at 0xbdaa978>"
      ]
     },
     "metadata": {},
     "output_type": "display_data"
    },
    {
     "name": "stdout",
     "output_type": "stream",
     "text": [
      "{1, 2, 3, 4, 5}\n",
      "Counter({3: 94, 4: 64, 5: 60, 2: 57, 1: 28})\n"
     ]
    }
   ],
   "source": [
    "k = 5\n",
    "color_threshold = 8.\n",
    "d = sch.distance.pdist(df_mod[X_columns])\n",
    "Z= sch.linkage(d, method = 'ward')\n",
    "T = sch.fcluster(Z, k, 'maxclust')\n",
    "P = sch.dendrogram(Z, color_threshold=color_threshold)\n",
    "plt.show()\n",
    "print(set(T))\n",
    "print(collections.Counter(T))\n",
    "df_results = df_hds.copy()\n",
    "df_results['cluster'] = T"
   ]
  },
  {
   "cell_type": "code",
   "execution_count": 112,
   "metadata": {},
   "outputs": [
    {
     "name": "stdout",
     "output_type": "stream",
     "text": [
      "1 28\n",
      "[0, 0, 1, 1, 2, 2, 2, 2, 2, 2, 2, 2, 2, 2, 3, 3, 3, 3, 3, 3, 3, 4, 4, 4, 4, 4, 4, 4]\n",
      "2 57\n",
      "[0, 0, 0, 1, 1, 1, 1, 1, 1, 1, 1, 1, 1, 1, 1, 1, 1, 1, 2, 2, 2, 2, 2, 2, 2, 2, 2, 2, 2, 2, 2, 2, 2, 3, 3, 3, 3, 3, 3, 3, 3, 3, 3, 3, 3, 3, 3, 3, 3, 3, 3, 3, 3, 4, 4, 4, 4]\n",
      "3 94\n",
      "[0, 0, 0, 0, 0, 0, 0, 0, 0, 0, 0, 0, 0, 0, 0, 0, 0, 0, 0, 0, 0, 0, 0, 0, 0, 0, 0, 0, 0, 0, 0, 0, 0, 0, 0, 0, 0, 0, 0, 0, 0, 0, 0, 0, 0, 0, 0, 0, 0, 0, 0, 0, 0, 0, 0, 1, 1, 1, 1, 1, 1, 1, 1, 1, 1, 1, 1, 1, 1, 1, 1, 1, 1, 1, 1, 1, 1, 2, 2, 2, 2, 2, 2, 2, 2, 2, 3, 3, 3, 3, 3, 3, 3, 4]\n",
      "4 64\n",
      "[0, 0, 0, 0, 0, 0, 0, 0, 0, 0, 0, 0, 0, 0, 0, 0, 0, 0, 0, 0, 0, 0, 0, 0, 0, 0, 0, 0, 0, 0, 0, 0, 0, 0, 0, 0, 0, 0, 0, 0, 0, 0, 0, 0, 0, 0, 0, 0, 0, 0, 0, 0, 0, 0, 0, 0, 0, 0, 0, 1, 1, 1, 1, 2]\n",
      "5 60\n",
      "[0, 0, 0, 0, 0, 0, 0, 0, 0, 0, 0, 0, 0, 0, 0, 0, 0, 0, 0, 0, 0, 0, 0, 0, 0, 0, 0, 0, 0, 0, 0, 0, 0, 0, 0, 0, 0, 0, 0, 0, 0, 0, 0, 0, 0, 1, 1, 1, 1, 1, 1, 1, 1, 1, 1, 1, 1, 2, 3, 4]\n"
     ]
    }
   ],
   "source": [
    "# Analyze the results\n",
    "for cluster in set(T):\n",
    "    print((cluster), (len(df_results[df_results['cluster']==cluster]['goal'])))\n",
    "    print(sorted(list(df_results[df_results['cluster']==cluster]['goal'])))"
   ]
  },
  {
   "cell_type": "code",
   "execution_count": 113,
   "metadata": {},
   "outputs": [
    {
     "name": "stdout",
     "output_type": "stream",
     "text": [
      "    cluster  goal  id\n",
      "0         1     0   2\n",
      "1         1     1   2\n",
      "2         1     2  10\n",
      "3         1     3   7\n",
      "4         1     4   7\n",
      "5         2     0   3\n",
      "6         2     1  15\n",
      "7         2     2  15\n",
      "8         2     3  20\n",
      "9         2     4   4\n",
      "10        3     0  55\n",
      "11        3     1  22\n",
      "12        3     2   9\n",
      "13        3     3   7\n",
      "14        3     4   1\n",
      "15        4     0  59\n",
      "16        4     1   4\n",
      "17        4     2   1\n",
      "18        5     0  45\n",
      "19        5     1  12\n",
      "20        5     2   1\n",
      "21        5     3   1\n",
      "22        5     4   1\n",
      "1 5\n",
      "[0, 1, 2, 3, 4]\n",
      "[2, 2, 10, 7, 7]\n",
      "2 5\n",
      "[0, 1, 2, 3, 4]\n",
      "[3, 15, 15, 20, 4]\n",
      "3 5\n",
      "[0, 1, 2, 3, 4]\n",
      "[55, 22, 9, 7, 1]\n",
      "4 3\n",
      "[0, 1, 2]\n",
      "[59, 4, 1]\n",
      "5 5\n",
      "[0, 1, 2, 3, 4]\n",
      "[45, 12, 1, 1, 1]\n"
     ]
    }
   ],
   "source": [
    "# display clusters with the frequency of age intervals\n",
    "\n",
    "# add id column\n",
    "df_results_copy = df_results.copy()\n",
    "df_id = pnd.DataFrame({'id': range(0, len(df_results), 1)})\n",
    "df_results_copy = pnd.concat([df_id, df_results_copy], axis=1)\n",
    "df_results_group = df_results_copy.groupby(['cluster', 'goal'])['id'].count().reset_index()\n",
    "print(df_results_group)\n",
    "for cluster in set(T):\n",
    "    print((cluster), (len(df_results_group[df_results_group['cluster']==cluster]['goal'])))\n",
    "    print(list(df_results_group[df_results_group['cluster']==cluster]['goal']))\n",
    "    print(list(df_results_group[df_results_group['cluster']==cluster]['id']))"
   ]
  },
  {
   "cell_type": "markdown",
   "metadata": {},
   "source": [
    "Clustering 'goal' values seem to lead to a certain separation with 3 clusters for 0 or 1 major vessels narrowed by more than 50% and 2 for more than 2 major vessels narrowed by more than 50%."
   ]
  },
  {
   "cell_type": "code",
   "execution_count": null,
   "metadata": {},
   "outputs": [],
   "source": []
  }
 ],
 "metadata": {
  "kernelspec": {
   "display_name": "Python 3",
   "language": "python",
   "name": "python3"
  },
  "language_info": {
   "codemirror_mode": {
    "name": "ipython",
    "version": 3
   },
   "file_extension": ".py",
   "mimetype": "text/x-python",
   "name": "python",
   "nbconvert_exporter": "python",
   "pygments_lexer": "ipython3",
   "version": "3.6.4"
  }
 },
 "nbformat": 4,
 "nbformat_minor": 2
}
