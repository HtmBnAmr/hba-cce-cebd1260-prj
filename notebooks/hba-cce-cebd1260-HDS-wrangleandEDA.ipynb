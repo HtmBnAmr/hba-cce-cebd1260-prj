{
 "cells": [
  {
   "cell_type": "markdown",
   "metadata": {},
   "source": [
    "# Exploratory Data Analysis fo Heart Hisease data"
   ]
  },
  {
   "cell_type": "markdown",
   "metadata": {},
   "source": [
    "### Import libraries ..."
   ]
  },
  {
   "cell_type": "code",
   "execution_count": 129,
   "metadata": {},
   "outputs": [],
   "source": [
    "# import the libraries\n",
    "%matplotlib inline\n",
    "\n",
    "import pandas as pnd\n",
    "import numpy as nmp\n",
    "import scipy\n",
    "import matplotlib.pyplot as plt\n",
    "\n",
    "# the more advanced python visualization library\n",
    "import seaborn as sns\n",
    "# apply style to all the charts\n",
    "sns.set_style('whitegrid')"
   ]
  },
  {
   "cell_type": "markdown",
   "metadata": {},
   "source": [
    "### Load the data: No header row in data file!"
   ]
  },
  {
   "cell_type": "code",
   "execution_count": 130,
   "metadata": {},
   "outputs": [],
   "source": [
    "df_clv = pnd.read_csv('C:\\\\Users\\\\hbenamor\\\\Desktop\\\\uc-heartdisease-datafolder\\\\processed.cleveland.data', header = None)\n",
    "df_hds = df_clv"
   ]
  },
  {
   "cell_type": "code",
   "execution_count": 131,
   "metadata": {},
   "outputs": [
    {
     "name": "stdout",
     "output_type": "stream",
     "text": [
      "0     0\n",
      "1     0\n",
      "2     0\n",
      "3     0\n",
      "4     0\n",
      "5     0\n",
      "6     0\n",
      "7     0\n",
      "8     0\n",
      "9     0\n",
      "10    0\n",
      "11    0\n",
      "12    0\n",
      "13    0\n",
      "dtype: int64\n"
     ]
    }
   ],
   "source": [
    "# Missing values by column: No missing values!\n",
    "print(df_hds.isnull().sum())"
   ]
  },
  {
   "cell_type": "code",
   "execution_count": 132,
   "metadata": {},
   "outputs": [
    {
     "data": {
      "text/html": [
       "<div>\n",
       "<style scoped>\n",
       "    .dataframe tbody tr th:only-of-type {\n",
       "        vertical-align: middle;\n",
       "    }\n",
       "\n",
       "    .dataframe tbody tr th {\n",
       "        vertical-align: top;\n",
       "    }\n",
       "\n",
       "    .dataframe thead th {\n",
       "        text-align: right;\n",
       "    }\n",
       "</style>\n",
       "<table border=\"1\" class=\"dataframe\">\n",
       "  <thead>\n",
       "    <tr style=\"text-align: right;\">\n",
       "      <th></th>\n",
       "      <th>0</th>\n",
       "      <th>1</th>\n",
       "      <th>2</th>\n",
       "      <th>3</th>\n",
       "      <th>4</th>\n",
       "      <th>5</th>\n",
       "      <th>6</th>\n",
       "      <th>7</th>\n",
       "      <th>8</th>\n",
       "      <th>9</th>\n",
       "      <th>10</th>\n",
       "      <th>11</th>\n",
       "      <th>12</th>\n",
       "      <th>13</th>\n",
       "    </tr>\n",
       "  </thead>\n",
       "  <tbody>\n",
       "  </tbody>\n",
       "</table>\n",
       "</div>"
      ],
      "text/plain": [
       "Empty DataFrame\n",
       "Columns: [0, 1, 2, 3, 4, 5, 6, 7, 8, 9, 10, 11, 12, 13]\n",
       "Index: []"
      ]
     },
     "execution_count": 132,
     "metadata": {},
     "output_type": "execute_result"
    }
   ],
   "source": [
    "# Rows with missing values: None!\n",
    "df_hds[df_hds.isnull().any(axis=1)]\n"
   ]
  },
  {
   "cell_type": "code",
   "execution_count": 133,
   "metadata": {},
   "outputs": [
    {
     "data": {
      "text/plain": [
       "Index(['age', 'sex', 'cp', 'trestbps', 'chol', 'fbs', 'restecg', 'thalach',\n",
       "       'exang', 'oldpeak', 'slope', 'ca', 'thal', 'n_vessels'],\n",
       "      dtype='object')"
      ]
     },
     "execution_count": 133,
     "metadata": {},
     "output_type": "execute_result"
    }
   ],
   "source": [
    "# Rename columns\n",
    "#df_clv.rename(columns=['age', 'sex', 'cp', 'trestbps', 'chol', 'fbs', 'restecg', 'thalach', 'exang', 'oldpeak', 'slope', 'ca', 'thal', 'goal'])\n",
    "df_hds.columns=[\"age\", \"sex\", \"cp\", \"trestbps\", \"chol\", \"fbs\", \"restecg\", \"thalach\", \"exang\", \"oldpeak\", \"slope\", \"ca\", \"thal\", \"n_vessels\"]\n",
    "df_hds.columns"
   ]
  },
  {
   "cell_type": "code",
   "execution_count": 134,
   "metadata": {},
   "outputs": [
    {
     "data": {
      "text/plain": [
       "array([[63.0, 1.0, 1.0, ..., '0.0', '6.0', 0],\n",
       "       [67.0, 1.0, 4.0, ..., '3.0', '3.0', 2],\n",
       "       [67.0, 1.0, 4.0, ..., '2.0', '7.0', 1],\n",
       "       ...,\n",
       "       [57.0, 1.0, 4.0, ..., '1.0', '7.0', 3],\n",
       "       [57.0, 0.0, 2.0, ..., '1.0', '3.0', 1],\n",
       "       [38.0, 1.0, 3.0, ..., '?', '3.0', 0]], dtype=object)"
      ]
     },
     "execution_count": 134,
     "metadata": {},
     "output_type": "execute_result"
    }
   ],
   "source": [
    "df_hds.values"
   ]
  },
  {
   "cell_type": "code",
   "execution_count": 135,
   "metadata": {},
   "outputs": [
    {
     "data": {
      "text/plain": [
       "(303, 14)"
      ]
     },
     "execution_count": 135,
     "metadata": {},
     "output_type": "execute_result"
    }
   ],
   "source": [
    "df_hds.shape"
   ]
  },
  {
   "cell_type": "code",
   "execution_count": 136,
   "metadata": {},
   "outputs": [
    {
     "data": {
      "text/html": [
       "<div>\n",
       "<style scoped>\n",
       "    .dataframe tbody tr th:only-of-type {\n",
       "        vertical-align: middle;\n",
       "    }\n",
       "\n",
       "    .dataframe tbody tr th {\n",
       "        vertical-align: top;\n",
       "    }\n",
       "\n",
       "    .dataframe thead th {\n",
       "        text-align: right;\n",
       "    }\n",
       "</style>\n",
       "<table border=\"1\" class=\"dataframe\">\n",
       "  <thead>\n",
       "    <tr style=\"text-align: right;\">\n",
       "      <th></th>\n",
       "      <th>age</th>\n",
       "      <th>sex</th>\n",
       "      <th>cp</th>\n",
       "      <th>trestbps</th>\n",
       "      <th>chol</th>\n",
       "      <th>fbs</th>\n",
       "      <th>restecg</th>\n",
       "      <th>thalach</th>\n",
       "      <th>exang</th>\n",
       "      <th>oldpeak</th>\n",
       "      <th>slope</th>\n",
       "      <th>ca</th>\n",
       "      <th>thal</th>\n",
       "      <th>n_vessels</th>\n",
       "    </tr>\n",
       "  </thead>\n",
       "  <tbody>\n",
       "    <tr>\n",
       "      <th>0</th>\n",
       "      <td>63.0</td>\n",
       "      <td>1.0</td>\n",
       "      <td>1.0</td>\n",
       "      <td>145.0</td>\n",
       "      <td>233.0</td>\n",
       "      <td>1.0</td>\n",
       "      <td>2.0</td>\n",
       "      <td>150.0</td>\n",
       "      <td>0.0</td>\n",
       "      <td>2.3</td>\n",
       "      <td>3.0</td>\n",
       "      <td>0.0</td>\n",
       "      <td>6.0</td>\n",
       "      <td>0</td>\n",
       "    </tr>\n",
       "    <tr>\n",
       "      <th>1</th>\n",
       "      <td>67.0</td>\n",
       "      <td>1.0</td>\n",
       "      <td>4.0</td>\n",
       "      <td>160.0</td>\n",
       "      <td>286.0</td>\n",
       "      <td>0.0</td>\n",
       "      <td>2.0</td>\n",
       "      <td>108.0</td>\n",
       "      <td>1.0</td>\n",
       "      <td>1.5</td>\n",
       "      <td>2.0</td>\n",
       "      <td>3.0</td>\n",
       "      <td>3.0</td>\n",
       "      <td>2</td>\n",
       "    </tr>\n",
       "    <tr>\n",
       "      <th>2</th>\n",
       "      <td>67.0</td>\n",
       "      <td>1.0</td>\n",
       "      <td>4.0</td>\n",
       "      <td>120.0</td>\n",
       "      <td>229.0</td>\n",
       "      <td>0.0</td>\n",
       "      <td>2.0</td>\n",
       "      <td>129.0</td>\n",
       "      <td>1.0</td>\n",
       "      <td>2.6</td>\n",
       "      <td>2.0</td>\n",
       "      <td>2.0</td>\n",
       "      <td>7.0</td>\n",
       "      <td>1</td>\n",
       "    </tr>\n",
       "    <tr>\n",
       "      <th>3</th>\n",
       "      <td>37.0</td>\n",
       "      <td>1.0</td>\n",
       "      <td>3.0</td>\n",
       "      <td>130.0</td>\n",
       "      <td>250.0</td>\n",
       "      <td>0.0</td>\n",
       "      <td>0.0</td>\n",
       "      <td>187.0</td>\n",
       "      <td>0.0</td>\n",
       "      <td>3.5</td>\n",
       "      <td>3.0</td>\n",
       "      <td>0.0</td>\n",
       "      <td>3.0</td>\n",
       "      <td>0</td>\n",
       "    </tr>\n",
       "    <tr>\n",
       "      <th>4</th>\n",
       "      <td>41.0</td>\n",
       "      <td>0.0</td>\n",
       "      <td>2.0</td>\n",
       "      <td>130.0</td>\n",
       "      <td>204.0</td>\n",
       "      <td>0.0</td>\n",
       "      <td>2.0</td>\n",
       "      <td>172.0</td>\n",
       "      <td>0.0</td>\n",
       "      <td>1.4</td>\n",
       "      <td>1.0</td>\n",
       "      <td>0.0</td>\n",
       "      <td>3.0</td>\n",
       "      <td>0</td>\n",
       "    </tr>\n",
       "  </tbody>\n",
       "</table>\n",
       "</div>"
      ],
      "text/plain": [
       "    age  sex   cp  trestbps   chol  fbs  restecg  thalach  exang  oldpeak  \\\n",
       "0  63.0  1.0  1.0     145.0  233.0  1.0      2.0    150.0    0.0      2.3   \n",
       "1  67.0  1.0  4.0     160.0  286.0  0.0      2.0    108.0    1.0      1.5   \n",
       "2  67.0  1.0  4.0     120.0  229.0  0.0      2.0    129.0    1.0      2.6   \n",
       "3  37.0  1.0  3.0     130.0  250.0  0.0      0.0    187.0    0.0      3.5   \n",
       "4  41.0  0.0  2.0     130.0  204.0  0.0      2.0    172.0    0.0      1.4   \n",
       "\n",
       "   slope   ca thal  n_vessels  \n",
       "0    3.0  0.0  6.0          0  \n",
       "1    2.0  3.0  3.0          2  \n",
       "2    2.0  2.0  7.0          1  \n",
       "3    3.0  0.0  3.0          0  \n",
       "4    1.0  0.0  3.0          0  "
      ]
     },
     "execution_count": 136,
     "metadata": {},
     "output_type": "execute_result"
    }
   ],
   "source": [
    "df_hds.head()"
   ]
  },
  {
   "cell_type": "code",
   "execution_count": 137,
   "metadata": {},
   "outputs": [
    {
     "data": {
      "text/html": [
       "<div>\n",
       "<style scoped>\n",
       "    .dataframe tbody tr th:only-of-type {\n",
       "        vertical-align: middle;\n",
       "    }\n",
       "\n",
       "    .dataframe tbody tr th {\n",
       "        vertical-align: top;\n",
       "    }\n",
       "\n",
       "    .dataframe thead th {\n",
       "        text-align: right;\n",
       "    }\n",
       "</style>\n",
       "<table border=\"1\" class=\"dataframe\">\n",
       "  <thead>\n",
       "    <tr style=\"text-align: right;\">\n",
       "      <th></th>\n",
       "      <th>age</th>\n",
       "      <th>sex</th>\n",
       "      <th>cp</th>\n",
       "      <th>trestbps</th>\n",
       "      <th>chol</th>\n",
       "      <th>fbs</th>\n",
       "      <th>restecg</th>\n",
       "      <th>thalach</th>\n",
       "      <th>exang</th>\n",
       "      <th>oldpeak</th>\n",
       "      <th>slope</th>\n",
       "      <th>ca</th>\n",
       "      <th>thal</th>\n",
       "      <th>n_vessels</th>\n",
       "    </tr>\n",
       "  </thead>\n",
       "  <tbody>\n",
       "    <tr>\n",
       "      <th>298</th>\n",
       "      <td>45.0</td>\n",
       "      <td>1.0</td>\n",
       "      <td>1.0</td>\n",
       "      <td>110.0</td>\n",
       "      <td>264.0</td>\n",
       "      <td>0.0</td>\n",
       "      <td>0.0</td>\n",
       "      <td>132.0</td>\n",
       "      <td>0.0</td>\n",
       "      <td>1.2</td>\n",
       "      <td>2.0</td>\n",
       "      <td>0.0</td>\n",
       "      <td>7.0</td>\n",
       "      <td>1</td>\n",
       "    </tr>\n",
       "    <tr>\n",
       "      <th>299</th>\n",
       "      <td>68.0</td>\n",
       "      <td>1.0</td>\n",
       "      <td>4.0</td>\n",
       "      <td>144.0</td>\n",
       "      <td>193.0</td>\n",
       "      <td>1.0</td>\n",
       "      <td>0.0</td>\n",
       "      <td>141.0</td>\n",
       "      <td>0.0</td>\n",
       "      <td>3.4</td>\n",
       "      <td>2.0</td>\n",
       "      <td>2.0</td>\n",
       "      <td>7.0</td>\n",
       "      <td>2</td>\n",
       "    </tr>\n",
       "    <tr>\n",
       "      <th>300</th>\n",
       "      <td>57.0</td>\n",
       "      <td>1.0</td>\n",
       "      <td>4.0</td>\n",
       "      <td>130.0</td>\n",
       "      <td>131.0</td>\n",
       "      <td>0.0</td>\n",
       "      <td>0.0</td>\n",
       "      <td>115.0</td>\n",
       "      <td>1.0</td>\n",
       "      <td>1.2</td>\n",
       "      <td>2.0</td>\n",
       "      <td>1.0</td>\n",
       "      <td>7.0</td>\n",
       "      <td>3</td>\n",
       "    </tr>\n",
       "    <tr>\n",
       "      <th>301</th>\n",
       "      <td>57.0</td>\n",
       "      <td>0.0</td>\n",
       "      <td>2.0</td>\n",
       "      <td>130.0</td>\n",
       "      <td>236.0</td>\n",
       "      <td>0.0</td>\n",
       "      <td>2.0</td>\n",
       "      <td>174.0</td>\n",
       "      <td>0.0</td>\n",
       "      <td>0.0</td>\n",
       "      <td>2.0</td>\n",
       "      <td>1.0</td>\n",
       "      <td>3.0</td>\n",
       "      <td>1</td>\n",
       "    </tr>\n",
       "    <tr>\n",
       "      <th>302</th>\n",
       "      <td>38.0</td>\n",
       "      <td>1.0</td>\n",
       "      <td>3.0</td>\n",
       "      <td>138.0</td>\n",
       "      <td>175.0</td>\n",
       "      <td>0.0</td>\n",
       "      <td>0.0</td>\n",
       "      <td>173.0</td>\n",
       "      <td>0.0</td>\n",
       "      <td>0.0</td>\n",
       "      <td>1.0</td>\n",
       "      <td>?</td>\n",
       "      <td>3.0</td>\n",
       "      <td>0</td>\n",
       "    </tr>\n",
       "  </tbody>\n",
       "</table>\n",
       "</div>"
      ],
      "text/plain": [
       "      age  sex   cp  trestbps   chol  fbs  restecg  thalach  exang  oldpeak  \\\n",
       "298  45.0  1.0  1.0     110.0  264.0  0.0      0.0    132.0    0.0      1.2   \n",
       "299  68.0  1.0  4.0     144.0  193.0  1.0      0.0    141.0    0.0      3.4   \n",
       "300  57.0  1.0  4.0     130.0  131.0  0.0      0.0    115.0    1.0      1.2   \n",
       "301  57.0  0.0  2.0     130.0  236.0  0.0      2.0    174.0    0.0      0.0   \n",
       "302  38.0  1.0  3.0     138.0  175.0  0.0      0.0    173.0    0.0      0.0   \n",
       "\n",
       "     slope   ca thal  n_vessels  \n",
       "298    2.0  0.0  7.0          1  \n",
       "299    2.0  2.0  7.0          2  \n",
       "300    2.0  1.0  7.0          3  \n",
       "301    2.0  1.0  3.0          1  \n",
       "302    1.0    ?  3.0          0  "
      ]
     },
     "execution_count": 137,
     "metadata": {},
     "output_type": "execute_result"
    }
   ],
   "source": [
    "df_hds.tail()"
   ]
  },
  {
   "cell_type": "code",
   "execution_count": 138,
   "metadata": {},
   "outputs": [],
   "source": [
    "# Some 'goal' values exceed 1 whereas they ar assumed to be either 0 or 1. They are set back to 1.\n",
    "# 'thal' and 'ca' have bad values '?'. They are set to default \"no issue\" values for each.\n",
    "#df_hds[\"goal\"] = nmp.where(df_hds['n_vessels'] >= 1, 1, df_hds['n_vessels']) \n",
    "df_hds[\"ca\"] = nmp.where(df_hds['ca']=='?', '0.0', df_hds['ca'])\n",
    "df_hds[\"thal\"] = nmp.where(df_hds['thal']=='?', '3.0', df_hds['thal'])"
   ]
  },
  {
   "cell_type": "code",
   "execution_count": 139,
   "metadata": {},
   "outputs": [
    {
     "data": {
      "text/plain": [
       "age          float64\n",
       "sex          float64\n",
       "cp           float64\n",
       "trestbps     float64\n",
       "chol         float64\n",
       "fbs          float64\n",
       "restecg      float64\n",
       "thalach      float64\n",
       "exang        float64\n",
       "oldpeak      float64\n",
       "slope        float64\n",
       "ca            object\n",
       "thal          object\n",
       "n_vessels      int64\n",
       "dtype: object"
      ]
     },
     "execution_count": 139,
     "metadata": {},
     "output_type": "execute_result"
    }
   ],
   "source": [
    "df_hds.dtypes"
   ]
  },
  {
   "cell_type": "code",
   "execution_count": 140,
   "metadata": {},
   "outputs": [
    {
     "data": {
      "text/html": [
       "<div>\n",
       "<style scoped>\n",
       "    .dataframe tbody tr th:only-of-type {\n",
       "        vertical-align: middle;\n",
       "    }\n",
       "\n",
       "    .dataframe tbody tr th {\n",
       "        vertical-align: top;\n",
       "    }\n",
       "\n",
       "    .dataframe thead th {\n",
       "        text-align: right;\n",
       "    }\n",
       "</style>\n",
       "<table border=\"1\" class=\"dataframe\">\n",
       "  <thead>\n",
       "    <tr style=\"text-align: right;\">\n",
       "      <th></th>\n",
       "      <th>age</th>\n",
       "      <th>sex</th>\n",
       "      <th>cp</th>\n",
       "      <th>trestbps</th>\n",
       "      <th>chol</th>\n",
       "      <th>fbs</th>\n",
       "      <th>restecg</th>\n",
       "      <th>thalach</th>\n",
       "      <th>exang</th>\n",
       "      <th>oldpeak</th>\n",
       "      <th>slope</th>\n",
       "      <th>n_vessels</th>\n",
       "    </tr>\n",
       "  </thead>\n",
       "  <tbody>\n",
       "    <tr>\n",
       "      <th>count</th>\n",
       "      <td>303.000000</td>\n",
       "      <td>303.000000</td>\n",
       "      <td>303.000000</td>\n",
       "      <td>303.000000</td>\n",
       "      <td>303.000000</td>\n",
       "      <td>303.000000</td>\n",
       "      <td>303.000000</td>\n",
       "      <td>303.000000</td>\n",
       "      <td>303.000000</td>\n",
       "      <td>303.000000</td>\n",
       "      <td>303.000000</td>\n",
       "      <td>303.000000</td>\n",
       "    </tr>\n",
       "    <tr>\n",
       "      <th>mean</th>\n",
       "      <td>54.438944</td>\n",
       "      <td>0.679868</td>\n",
       "      <td>3.158416</td>\n",
       "      <td>131.689769</td>\n",
       "      <td>246.693069</td>\n",
       "      <td>0.148515</td>\n",
       "      <td>0.990099</td>\n",
       "      <td>149.607261</td>\n",
       "      <td>0.326733</td>\n",
       "      <td>1.039604</td>\n",
       "      <td>1.600660</td>\n",
       "      <td>0.937294</td>\n",
       "    </tr>\n",
       "    <tr>\n",
       "      <th>std</th>\n",
       "      <td>9.038662</td>\n",
       "      <td>0.467299</td>\n",
       "      <td>0.960126</td>\n",
       "      <td>17.599748</td>\n",
       "      <td>51.776918</td>\n",
       "      <td>0.356198</td>\n",
       "      <td>0.994971</td>\n",
       "      <td>22.875003</td>\n",
       "      <td>0.469794</td>\n",
       "      <td>1.161075</td>\n",
       "      <td>0.616226</td>\n",
       "      <td>1.228536</td>\n",
       "    </tr>\n",
       "    <tr>\n",
       "      <th>min</th>\n",
       "      <td>29.000000</td>\n",
       "      <td>0.000000</td>\n",
       "      <td>1.000000</td>\n",
       "      <td>94.000000</td>\n",
       "      <td>126.000000</td>\n",
       "      <td>0.000000</td>\n",
       "      <td>0.000000</td>\n",
       "      <td>71.000000</td>\n",
       "      <td>0.000000</td>\n",
       "      <td>0.000000</td>\n",
       "      <td>1.000000</td>\n",
       "      <td>0.000000</td>\n",
       "    </tr>\n",
       "    <tr>\n",
       "      <th>25%</th>\n",
       "      <td>48.000000</td>\n",
       "      <td>0.000000</td>\n",
       "      <td>3.000000</td>\n",
       "      <td>120.000000</td>\n",
       "      <td>211.000000</td>\n",
       "      <td>0.000000</td>\n",
       "      <td>0.000000</td>\n",
       "      <td>133.500000</td>\n",
       "      <td>0.000000</td>\n",
       "      <td>0.000000</td>\n",
       "      <td>1.000000</td>\n",
       "      <td>0.000000</td>\n",
       "    </tr>\n",
       "    <tr>\n",
       "      <th>50%</th>\n",
       "      <td>56.000000</td>\n",
       "      <td>1.000000</td>\n",
       "      <td>3.000000</td>\n",
       "      <td>130.000000</td>\n",
       "      <td>241.000000</td>\n",
       "      <td>0.000000</td>\n",
       "      <td>1.000000</td>\n",
       "      <td>153.000000</td>\n",
       "      <td>0.000000</td>\n",
       "      <td>0.800000</td>\n",
       "      <td>2.000000</td>\n",
       "      <td>0.000000</td>\n",
       "    </tr>\n",
       "    <tr>\n",
       "      <th>75%</th>\n",
       "      <td>61.000000</td>\n",
       "      <td>1.000000</td>\n",
       "      <td>4.000000</td>\n",
       "      <td>140.000000</td>\n",
       "      <td>275.000000</td>\n",
       "      <td>0.000000</td>\n",
       "      <td>2.000000</td>\n",
       "      <td>166.000000</td>\n",
       "      <td>1.000000</td>\n",
       "      <td>1.600000</td>\n",
       "      <td>2.000000</td>\n",
       "      <td>2.000000</td>\n",
       "    </tr>\n",
       "    <tr>\n",
       "      <th>max</th>\n",
       "      <td>77.000000</td>\n",
       "      <td>1.000000</td>\n",
       "      <td>4.000000</td>\n",
       "      <td>200.000000</td>\n",
       "      <td>564.000000</td>\n",
       "      <td>1.000000</td>\n",
       "      <td>2.000000</td>\n",
       "      <td>202.000000</td>\n",
       "      <td>1.000000</td>\n",
       "      <td>6.200000</td>\n",
       "      <td>3.000000</td>\n",
       "      <td>4.000000</td>\n",
       "    </tr>\n",
       "  </tbody>\n",
       "</table>\n",
       "</div>"
      ],
      "text/plain": [
       "              age         sex          cp    trestbps        chol         fbs  \\\n",
       "count  303.000000  303.000000  303.000000  303.000000  303.000000  303.000000   \n",
       "mean    54.438944    0.679868    3.158416  131.689769  246.693069    0.148515   \n",
       "std      9.038662    0.467299    0.960126   17.599748   51.776918    0.356198   \n",
       "min     29.000000    0.000000    1.000000   94.000000  126.000000    0.000000   \n",
       "25%     48.000000    0.000000    3.000000  120.000000  211.000000    0.000000   \n",
       "50%     56.000000    1.000000    3.000000  130.000000  241.000000    0.000000   \n",
       "75%     61.000000    1.000000    4.000000  140.000000  275.000000    0.000000   \n",
       "max     77.000000    1.000000    4.000000  200.000000  564.000000    1.000000   \n",
       "\n",
       "          restecg     thalach       exang     oldpeak       slope   n_vessels  \n",
       "count  303.000000  303.000000  303.000000  303.000000  303.000000  303.000000  \n",
       "mean     0.990099  149.607261    0.326733    1.039604    1.600660    0.937294  \n",
       "std      0.994971   22.875003    0.469794    1.161075    0.616226    1.228536  \n",
       "min      0.000000   71.000000    0.000000    0.000000    1.000000    0.000000  \n",
       "25%      0.000000  133.500000    0.000000    0.000000    1.000000    0.000000  \n",
       "50%      1.000000  153.000000    0.000000    0.800000    2.000000    0.000000  \n",
       "75%      2.000000  166.000000    1.000000    1.600000    2.000000    2.000000  \n",
       "max      2.000000  202.000000    1.000000    6.200000    3.000000    4.000000  "
      ]
     },
     "execution_count": 140,
     "metadata": {},
     "output_type": "execute_result"
    }
   ],
   "source": [
    "df_hds.describe()"
   ]
  },
  {
   "cell_type": "code",
   "execution_count": 141,
   "metadata": {},
   "outputs": [
    {
     "data": {
      "text/html": [
       "<div>\n",
       "<style scoped>\n",
       "    .dataframe tbody tr th:only-of-type {\n",
       "        vertical-align: middle;\n",
       "    }\n",
       "\n",
       "    .dataframe tbody tr th {\n",
       "        vertical-align: top;\n",
       "    }\n",
       "\n",
       "    .dataframe thead th {\n",
       "        text-align: right;\n",
       "    }\n",
       "</style>\n",
       "<table border=\"1\" class=\"dataframe\">\n",
       "  <thead>\n",
       "    <tr style=\"text-align: right;\">\n",
       "      <th></th>\n",
       "      <th>age</th>\n",
       "      <th>trestbps</th>\n",
       "      <th>chol</th>\n",
       "      <th>thalach</th>\n",
       "      <th>oldpeak</th>\n",
       "      <th>n_vessels</th>\n",
       "    </tr>\n",
       "  </thead>\n",
       "  <tbody>\n",
       "    <tr>\n",
       "      <th>count</th>\n",
       "      <td>303.000000</td>\n",
       "      <td>303.000000</td>\n",
       "      <td>303.000000</td>\n",
       "      <td>303.000000</td>\n",
       "      <td>303.000000</td>\n",
       "      <td>303.000000</td>\n",
       "    </tr>\n",
       "    <tr>\n",
       "      <th>mean</th>\n",
       "      <td>54.438944</td>\n",
       "      <td>131.689769</td>\n",
       "      <td>246.693069</td>\n",
       "      <td>149.607261</td>\n",
       "      <td>1.039604</td>\n",
       "      <td>0.937294</td>\n",
       "    </tr>\n",
       "    <tr>\n",
       "      <th>std</th>\n",
       "      <td>9.038662</td>\n",
       "      <td>17.599748</td>\n",
       "      <td>51.776918</td>\n",
       "      <td>22.875003</td>\n",
       "      <td>1.161075</td>\n",
       "      <td>1.228536</td>\n",
       "    </tr>\n",
       "    <tr>\n",
       "      <th>min</th>\n",
       "      <td>29.000000</td>\n",
       "      <td>94.000000</td>\n",
       "      <td>126.000000</td>\n",
       "      <td>71.000000</td>\n",
       "      <td>0.000000</td>\n",
       "      <td>0.000000</td>\n",
       "    </tr>\n",
       "    <tr>\n",
       "      <th>25%</th>\n",
       "      <td>48.000000</td>\n",
       "      <td>120.000000</td>\n",
       "      <td>211.000000</td>\n",
       "      <td>133.500000</td>\n",
       "      <td>0.000000</td>\n",
       "      <td>0.000000</td>\n",
       "    </tr>\n",
       "    <tr>\n",
       "      <th>50%</th>\n",
       "      <td>56.000000</td>\n",
       "      <td>130.000000</td>\n",
       "      <td>241.000000</td>\n",
       "      <td>153.000000</td>\n",
       "      <td>0.800000</td>\n",
       "      <td>0.000000</td>\n",
       "    </tr>\n",
       "    <tr>\n",
       "      <th>75%</th>\n",
       "      <td>61.000000</td>\n",
       "      <td>140.000000</td>\n",
       "      <td>275.000000</td>\n",
       "      <td>166.000000</td>\n",
       "      <td>1.600000</td>\n",
       "      <td>2.000000</td>\n",
       "    </tr>\n",
       "    <tr>\n",
       "      <th>max</th>\n",
       "      <td>77.000000</td>\n",
       "      <td>200.000000</td>\n",
       "      <td>564.000000</td>\n",
       "      <td>202.000000</td>\n",
       "      <td>6.200000</td>\n",
       "      <td>4.000000</td>\n",
       "    </tr>\n",
       "  </tbody>\n",
       "</table>\n",
       "</div>"
      ],
      "text/plain": [
       "              age    trestbps        chol     thalach     oldpeak   n_vessels\n",
       "count  303.000000  303.000000  303.000000  303.000000  303.000000  303.000000\n",
       "mean    54.438944  131.689769  246.693069  149.607261    1.039604    0.937294\n",
       "std      9.038662   17.599748   51.776918   22.875003    1.161075    1.228536\n",
       "min     29.000000   94.000000  126.000000   71.000000    0.000000    0.000000\n",
       "25%     48.000000  120.000000  211.000000  133.500000    0.000000    0.000000\n",
       "50%     56.000000  130.000000  241.000000  153.000000    0.800000    0.000000\n",
       "75%     61.000000  140.000000  275.000000  166.000000    1.600000    2.000000\n",
       "max     77.000000  200.000000  564.000000  202.000000    6.200000    4.000000"
      ]
     },
     "execution_count": 141,
     "metadata": {},
     "output_type": "execute_result"
    }
   ],
   "source": [
    "# sex, cp, fbs, restecg, exang, slope, goal are not numerical: transform their values.\n",
    "df_mod = df_hds.copy()\n",
    "#df_mod['sex']\n",
    "# sex\n",
    "df_mod[\"sex\"] = nmp.where(df_hds['sex'] == 1.0, 'M', 'F')\n",
    "df_mod['sex']\n",
    "# cp\n",
    "df_mod[\"cp\"] = nmp.where((df_hds['cp'] == 1), 'typ_ang', df_mod['cp'])\n",
    "df_mod[\"cp\"] = nmp.where((df_hds['cp'] == 2), 'atyp_ang', df_mod['cp'])\n",
    "df_mod[\"cp\"] = nmp.where((df_hds['cp'] == 3), 'non_ang', df_mod['cp'])\n",
    "df_mod[\"cp\"] = nmp.where((df_hds['cp'] == 4), 'asymp', df_mod['cp'])\n",
    "df_mod['cp']\n",
    "# fbs\n",
    "df_mod[\"fbs\"] = nmp.where(df_hds['fbs'] > 0.120, 'High', 'Low')\n",
    "df_mod['fbs']\n",
    "# restecg\n",
    "df_mod[\"restecg\"] = nmp.where((df_hds['restecg'] == 0), 'Normal', df_mod['restecg'])\n",
    "df_mod[\"restecg\"] = nmp.where((df_hds['restecg'] == 1), 'ST-T-Abnormal', df_mod['restecg'])\n",
    "df_mod[\"restecg\"] = nmp.where((df_hds['restecg'] == 2), 'LeftVent-hyper', df_mod['restecg'])\n",
    "df_mod['restecg']\n",
    "# exang\n",
    "df_mod[\"exang\"] = nmp.where(df_hds['exang'] == 1.0, 'Yes', df_mod['exang'])\n",
    "df_mod[\"exang\"] = nmp.where(df_hds['exang'] == 0.0, 'No', df_mod['exang'])\n",
    "df_mod['exang']\n",
    "# restecg\n",
    "df_mod[\"slope\"] = nmp.where((df_hds['slope'] == 1), 'unslope', df_mod['slope'])\n",
    "df_mod[\"slope\"] = nmp.where((df_hds['slope'] == 2), 'noslope', df_mod['slope'])\n",
    "df_mod[\"slope\"] = nmp.where((df_hds['slope'] == 3), 'dnslope', df_mod['slope'])\n",
    "df_mod['slope']\n",
    "# n_vessels\n",
    "#df_mod[\"n_vessels\"] = nmp.where(df_hds['n_vessels'] < 0.5, 'NO vessels', '1+ vessels')\n",
    "#df_mod['n_vessels']\n",
    "df_mod.describe()"
   ]
  },
  {
   "cell_type": "code",
   "execution_count": 142,
   "metadata": {},
   "outputs": [
    {
     "data": {
      "text/plain": [
       "age          float64\n",
       "sex           object\n",
       "cp            object\n",
       "trestbps     float64\n",
       "chol         float64\n",
       "fbs           object\n",
       "restecg       object\n",
       "thalach      float64\n",
       "exang         object\n",
       "oldpeak      float64\n",
       "slope         object\n",
       "ca            object\n",
       "thal          object\n",
       "n_vessels      int64\n",
       "dtype: object"
      ]
     },
     "execution_count": 142,
     "metadata": {},
     "output_type": "execute_result"
    }
   ],
   "source": [
    "df_mod.dtypes"
   ]
  },
  {
   "cell_type": "markdown",
   "metadata": {},
   "source": [
    "##### Numerical variables distributions."
   ]
  },
  {
   "cell_type": "code",
   "execution_count": 143,
   "metadata": {},
   "outputs": [
    {
     "name": "stdout",
     "output_type": "stream",
     "text": [
      "count    303.0\n",
      "mean      54.0\n",
      "std        9.0\n",
      "min       29.0\n",
      "25%       48.0\n",
      "50%       56.0\n",
      "75%       61.0\n",
      "max       77.0\n",
      "Name: age, dtype: float64\n"
     ]
    },
    {
     "data": {
      "image/png": "[encoded data removed]",
      "text/plain": [
       "<matplotlib.figure.Figure at 0xc7fd438>"
      ]
     },
     "metadata": {},
     "output_type": "display_data"
    },
    {
     "data": {
      "image/png": "[encoded data removed]",
      "text/plain": [
       "<matplotlib.figure.Figure at 0xb6e61d0>"
      ]
     },
     "metadata": {},
     "output_type": "display_data"
    }
   ],
   "source": [
    "# Analyze age distribution\n",
    "\n",
    "# Hisotgram\n",
    "print(df_mod['age'].describe().round())\n",
    "plt.hist(df_mod['age'], bins=20)\n",
    "plt.show()\n",
    "# Box plot: No outliers!\n",
    "plt.boxplot(df_mod['age'])\n",
    "plt.xticks([1], ['age'], rotation='horizontal')\n",
    "plt.show()"
   ]
  },
  {
   "cell_type": "code",
   "execution_count": 144,
   "metadata": {},
   "outputs": [
    {
     "name": "stdout",
     "output_type": "stream",
     "text": [
      "count    303.0\n",
      "mean     132.0\n",
      "std       18.0\n",
      "min       94.0\n",
      "25%      120.0\n",
      "50%      130.0\n",
      "75%      140.0\n",
      "max      200.0\n",
      "Name: trestbps, dtype: float64\n"
     ]
    },
    {
     "data": {
      "image/png": "[encoded data removed]",
      "text/plain": [
       "<matplotlib.figure.Figure at 0xbe69668>"
      ]
     },
     "metadata": {},
     "output_type": "display_data"
    },
    {
     "data": {
      "image/png": "[encoded data removed]",
      "text/plain": [
       "<matplotlib.figure.Figure at 0xb78ac50>"
      ]
     },
     "metadata": {},
     "output_type": "display_data"
    }
   ],
   "source": [
    "# Analyze resting blood pressure distribution\n",
    "\n",
    "# Hisotgram\n",
    "print(df_mod['trestbps'].describe().round())\n",
    "plt.hist(df_mod['trestbps'], bins=20)\n",
    "plt.show()\n",
    "# Box plot: 6 outliers!\n",
    "plt.boxplot(df_mod['trestbps'])\n",
    "plt.xticks([1], ['trestbps'], rotation='horizontal')\n",
    "plt.show()"
   ]
  },
  {
   "cell_type": "code",
   "execution_count": 145,
   "metadata": {},
   "outputs": [
    {
     "name": "stdout",
     "output_type": "stream",
     "text": [
      "count    303.0\n",
      "mean     247.0\n",
      "std       52.0\n",
      "min      126.0\n",
      "25%      211.0\n",
      "50%      241.0\n",
      "75%      275.0\n",
      "max      564.0\n",
      "Name: chol, dtype: float64\n"
     ]
    },
    {
     "data": {
      "image/png": "[encoded data removed]",
      "text/plain": [
       "<matplotlib.figure.Figure at 0xbe9de10>"
      ]
     },
     "metadata": {},
     "output_type": "display_data"
    },
    {
     "data": {
      "image/png": "[encoded data removed]",
      "text/plain": [
       "<matplotlib.figure.Figure at 0xbd55438>"
      ]
     },
     "metadata": {},
     "output_type": "display_data"
    }
   ],
   "source": [
    "# Analyze cholesterol distribution\n",
    "\n",
    "# Hisotgram\n",
    "print(df_mod['chol'].describe().round())\n",
    "plt.hist(df_mod['chol'], bins=20)\n",
    "plt.show()\n",
    "# Box plot: 4 outliers!\n",
    "plt.boxplot(df_mod['chol'])\n",
    "plt.xticks([1], ['chol'], rotation='horizontal')\n",
    "plt.show()"
   ]
  },
  {
   "cell_type": "code",
   "execution_count": 146,
   "metadata": {},
   "outputs": [
    {
     "name": "stdout",
     "output_type": "stream",
     "text": [
      "count    303.0\n",
      "mean     150.0\n",
      "std       23.0\n",
      "min       71.0\n",
      "25%      134.0\n",
      "50%      153.0\n",
      "75%      166.0\n",
      "max      202.0\n",
      "Name: thalach, dtype: float64\n"
     ]
    },
    {
     "data": {
      "image/png": "[encoded data removed]",
      "text/plain": [
       "<matplotlib.figure.Figure at 0xbd2e780>"
      ]
     },
     "metadata": {},
     "output_type": "display_data"
    },
    {
     "data": {
      "image/png": "[encoded data removed]",
      "text/plain": [
       "<matplotlib.figure.Figure at 0xbff7588>"
      ]
     },
     "metadata": {},
     "output_type": "display_data"
    }
   ],
   "source": [
    "# Analyze maximum heart rate achieved distribution\n",
    "\n",
    "# Hisotgram\n",
    "print(df_mod['thalach'].describe().round())\n",
    "plt.hist(df_mod['thalach'], bins=20)\n",
    "plt.show()\n",
    "# Box plot: One outlier!\n",
    "plt.boxplot(df_mod['thalach'])\n",
    "plt.xticks([1], ['thalach'], rotation='horizontal')\n",
    "plt.show()"
   ]
  },
  {
   "cell_type": "code",
   "execution_count": 147,
   "metadata": {},
   "outputs": [
    {
     "name": "stdout",
     "output_type": "stream",
     "text": [
      "count    303.0\n",
      "mean       1.0\n",
      "std        1.0\n",
      "min        0.0\n",
      "25%        0.0\n",
      "50%        1.0\n",
      "75%        2.0\n",
      "max        6.0\n",
      "Name: oldpeak, dtype: float64\n"
     ]
    },
    {
     "data": {
      "image/png": "[encoded data removed]",
      "text/plain": [
       "<matplotlib.figure.Figure at 0xc478240>"
      ]
     },
     "metadata": {},
     "output_type": "display_data"
    },
    {
     "data": {
      "image/png": "[encoded data removed]",
      "text/plain": [
       "<matplotlib.figure.Figure at 0xb950320>"
      ]
     },
     "metadata": {},
     "output_type": "display_data"
    }
   ],
   "source": [
    "# Analyze ST depression induced by exercice distribution\n",
    "\n",
    "# Hisotgram\n",
    "print(df_mod['oldpeak'].describe().round())\n",
    "plt.hist(df_mod['oldpeak'], bins=20)\n",
    "plt.show()\n",
    "# Box plot: 4 outliers!\n",
    "plt.boxplot(df_mod['oldpeak'])\n",
    "plt.xticks([1], ['oldpeak'], rotation='horizontal')\n",
    "plt.show()"
   ]
  },
  {
   "cell_type": "markdown",
   "metadata": {},
   "source": [
    "Most numerical variables have 'normal' distributions, but the shapes seem to differ. Thhey also exhibit very few outliers."
   ]
  },
  {
   "cell_type": "markdown",
   "metadata": {},
   "source": [
    "##### Categorical variables distributions"
   ]
  },
  {
   "cell_type": "code",
   "execution_count": 148,
   "metadata": {},
   "outputs": [
    {
     "name": "stdout",
     "output_type": "stream",
     "text": [
      "M    206\n",
      "F     97\n",
      "Name: sex, dtype: int64\n"
     ]
    },
    {
     "data": {
      "image/png": "[encoded data removed]",
      "text/plain": [
       "<matplotlib.figure.Figure at 0xc0b9048>"
      ]
     },
     "metadata": {},
     "output_type": "display_data"
    }
   ],
   "source": [
    "# Analyze sex distribution\n",
    "print(df_mod['sex'].value_counts())\n",
    "\n",
    "# Bar Chart\n",
    "plt.figure(figsize=(12,6))\n",
    "plt.title('# patients by sex')\n",
    "plt.xlabel('sex')\n",
    "plt.ylabel('# patients')\n",
    "\n",
    "labels = df_mod['sex'].value_counts().index\n",
    "values = df_mod['sex'].value_counts().values\n",
    "\n",
    "y_pos = range(len(labels))\n",
    "plt.bar(y_pos, values, align='center', alpha=0.5)\n",
    "plt.xticks(y_pos, labels)\n",
    "plt.show()"
   ]
  },
  {
   "cell_type": "code",
   "execution_count": 149,
   "metadata": {},
   "outputs": [
    {
     "name": "stdout",
     "output_type": "stream",
     "text": [
      "asymp       144\n",
      "non_ang      86\n",
      "atyp_ang     50\n",
      "typ_ang      23\n",
      "Name: cp, dtype: int64\n"
     ]
    },
    {
     "data": {
      "image/png": "[encoded data removed]",
      "text/plain": [
       "<matplotlib.figure.Figure at 0xb9f2d30>"
      ]
     },
     "metadata": {},
     "output_type": "display_data"
    }
   ],
   "source": [
    "# Analyze  chest pain type distribution\n",
    "print(df_mod['cp'].value_counts())\n",
    "\n",
    "# Bar Chart\n",
    "plt.figure(figsize=(12,6))\n",
    "plt.title('# patients by chest pain type')\n",
    "plt.xlabel('cp')\n",
    "plt.ylabel('# patients')\n",
    "\n",
    "labels = df_mod['cp'].value_counts().index\n",
    "values = df_mod['cp'].value_counts().values\n",
    "\n",
    "y_pos = range(len(labels))\n",
    "plt.bar(y_pos, values, align='center', alpha=0.5)\n",
    "plt.xticks(y_pos, labels)\n",
    "plt.show()"
   ]
  },
  {
   "cell_type": "code",
   "execution_count": 150,
   "metadata": {},
   "outputs": [
    {
     "name": "stdout",
     "output_type": "stream",
     "text": [
      "Low     258\n",
      "High     45\n",
      "Name: fbs, dtype: int64\n"
     ]
    },
    {
     "data": {
      "image/png": "[encoded data removed]",
      "text/plain": [
       "<matplotlib.figure.Figure at 0xbe9d080>"
      ]
     },
     "metadata": {},
     "output_type": "display_data"
    }
   ],
   "source": [
    "# Analyze fasting blood sugar distribution\n",
    "print(df_mod['fbs'].value_counts())\n",
    "\n",
    "# Bar Chart\n",
    "plt.figure(figsize=(12,6))\n",
    "plt.title('# patients by fbs')\n",
    "plt.xlabel('fbs')\n",
    "plt.ylabel('# patients fbs')\n",
    "\n",
    "labels = df_mod['fbs'].value_counts().index\n",
    "values = df_mod['fbs'].value_counts().values\n",
    "\n",
    "y_pos = range(len(labels))\n",
    "plt.bar(y_pos, values, align='center', alpha=0.5)\n",
    "plt.xticks(y_pos, labels)\n",
    "plt.show()"
   ]
  },
  {
   "cell_type": "code",
   "execution_count": 151,
   "metadata": {},
   "outputs": [
    {
     "name": "stdout",
     "output_type": "stream",
     "text": [
      "Normal            151\n",
      "LeftVent-hyper    148\n",
      "ST-T-Abnormal       4\n",
      "Name: restecg, dtype: int64\n"
     ]
    },
    {
     "data": {
      "image/png": "[encoded data removed]",
      "text/plain": [
       "<matplotlib.figure.Figure at 0xba41358>"
      ]
     },
     "metadata": {},
     "output_type": "display_data"
    }
   ],
   "source": [
    "# Analyze resting electrocardiographic distribution\n",
    "print(df_mod['restecg'].value_counts())\n",
    "\n",
    "# Bar Chart\n",
    "plt.figure(figsize=(12,6))\n",
    "plt.title('# patients by restecg')\n",
    "plt.xlabel('restecg')\n",
    "plt.ylabel('# patients')\n",
    "\n",
    "labels = df_mod['restecg'].value_counts().index\n",
    "values = df_mod['restecg'].value_counts().values\n",
    "\n",
    "y_pos = range(len(labels))\n",
    "plt.bar(y_pos, values, align='center', alpha=0.5)\n",
    "plt.xticks(y_pos, labels)\n",
    "plt.show()"
   ]
  },
  {
   "cell_type": "code",
   "execution_count": 152,
   "metadata": {},
   "outputs": [
    {
     "name": "stdout",
     "output_type": "stream",
     "text": [
      "No     204\n",
      "Yes     99\n",
      "Name: exang, dtype: int64\n"
     ]
    },
    {
     "data": {
      "image/png": "[encoded data removed]",
      "text/plain": [
       "<matplotlib.figure.Figure at 0xb9fb438>"
      ]
     },
     "metadata": {},
     "output_type": "display_data"
    }
   ],
   "source": [
    "# Analyze exercise induced angina distribution\n",
    "print(df_mod['exang'].value_counts())\n",
    "\n",
    "# Bar Chart\n",
    "plt.figure(figsize=(12,6))\n",
    "plt.title('# patients by exang')\n",
    "plt.xlabel('exang')\n",
    "plt.ylabel('# patients')\n",
    "\n",
    "labels = df_mod['exang'].value_counts().index\n",
    "values = df_mod['exang'].value_counts().values\n",
    "\n",
    "y_pos = range(len(labels))\n",
    "plt.bar(y_pos, values, align='center', alpha=0.5)\n",
    "plt.xticks(y_pos, labels)\n",
    "plt.show()"
   ]
  },
  {
   "cell_type": "code",
   "execution_count": 153,
   "metadata": {},
   "outputs": [
    {
     "name": "stdout",
     "output_type": "stream",
     "text": [
      "unslope    142\n",
      "noslope    140\n",
      "dnslope     21\n",
      "Name: slope, dtype: int64\n"
     ]
    },
    {
     "data": {
      "image/png": "[encoded data removed]",
      "text/plain": [
       "<matplotlib.figure.Figure at 0xb8a26d8>"
      ]
     },
     "metadata": {},
     "output_type": "display_data"
    }
   ],
   "source": [
    "# Analyze slope of the peak exercise segment distribution\n",
    "print(df_mod['slope'].value_counts())\n",
    "\n",
    "# Bar Chart\n",
    "plt.figure(figsize=(12,6))\n",
    "plt.title('# patients by slope')\n",
    "plt.xlabel('slope')\n",
    "plt.ylabel('# patients')\n",
    "\n",
    "labels = df_mod['slope'].value_counts().index\n",
    "values = df_mod['slope'].value_counts().values\n",
    "\n",
    "y_pos = range(len(labels))\n",
    "plt.bar(y_pos, values, align='center', alpha=0.5)\n",
    "plt.xticks(y_pos, labels)\n",
    "plt.show()"
   ]
  },
  {
   "cell_type": "code",
   "execution_count": 154,
   "metadata": {},
   "outputs": [
    {
     "name": "stdout",
     "output_type": "stream",
     "text": [
      "0.0    180\n",
      "1.0     65\n",
      "2.0     38\n",
      "3.0     20\n",
      "Name: ca, dtype: int64\n"
     ]
    },
    {
     "data": {
      "image/png": "[encoded data removed]",
      "text/plain": [
       "<matplotlib.figure.Figure at 0xb242f60>"
      ]
     },
     "metadata": {},
     "output_type": "display_data"
    }
   ],
   "source": [
    "# Analyze number of major vessels coloured bu fluoroscopy distribution\n",
    "print(df_mod['ca'].value_counts())\n",
    "\n",
    "# Bar Chart\n",
    "plt.figure(figsize=(12,6))\n",
    "plt.title('# patients by ca')\n",
    "plt.xlabel('ca')\n",
    "plt.ylabel('# patients')\n",
    "\n",
    "labels = df_mod['ca'].value_counts().index\n",
    "values = df_mod['ca'].value_counts().values\n",
    "\n",
    "y_pos = range(len(labels))\n",
    "plt.bar(y_pos, values, align='center', alpha=0.5)\n",
    "plt.xticks(y_pos, labels)\n",
    "plt.show()"
   ]
  },
  {
   "cell_type": "code",
   "execution_count": 350,
   "metadata": {},
   "outputs": [
    {
     "name": "stdout",
     "output_type": "stream",
     "text": [
      "3.0    168\n",
      "7.0    117\n",
      "6.0     18\n",
      "Name: thal, dtype: int64\n"
     ]
    },
    {
     "data": {
      "image/png": "[encoded data removed]",
      "text/plain": [
       "<matplotlib.figure.Figure at 0xc07acc0>"
      ]
     },
     "metadata": {},
     "output_type": "display_data"
    }
   ],
   "source": [
    "# Analyze Thalium stress test distribution\n",
    "print(df_mod['thal'].value_counts())\n",
    "\n",
    "# Bar Chart\n",
    "plt.figure(figsize=(12,6))\n",
    "plt.title('# patients by Thal')\n",
    "plt.xlabel('thal')\n",
    "plt.ylabel('# patients')\n",
    "\n",
    "labels = df_mod['thal'].value_counts().index\n",
    "values = df_mod['thal'].value_counts().values\n",
    "\n",
    "y_pos = range(len(labels))\n",
    "plt.bar(y_pos, values, align='center', alpha=0.5)\n",
    "plt.xticks(y_pos, labels)\n",
    "plt.show()"
   ]
  },
  {
   "cell_type": "code",
   "execution_count": 156,
   "metadata": {},
   "outputs": [
    {
     "name": "stdout",
     "output_type": "stream",
     "text": [
      "0    164\n",
      "1     55\n",
      "2     36\n",
      "3     35\n",
      "4     13\n",
      "Name: n_vessels, dtype: int64\n"
     ]
    },
    {
     "data": {
      "image/png": "[encoded data removed]",
      "text/plain": [
       "<matplotlib.figure.Figure at 0xc7e16a0>"
      ]
     },
     "metadata": {},
     "output_type": "display_data"
    }
   ],
   "source": [
    "# Analyze  goal distribution\n",
    "print(df_mod['n_vessels'].value_counts())\n",
    "\n",
    "# Bar Chart\n",
    "plt.figure(figsize=(12,6))\n",
    "plt.title('# patients by number of vessels narrowed')\n",
    "plt.xlabel('n_vessels')\n",
    "plt.ylabel('# patients')\n",
    "\n",
    "labels = df_mod['n_vessels'].value_counts().index\n",
    "values = df_mod['n_vessels'].value_counts().values\n",
    "\n",
    "y_pos = range(len(labels))\n",
    "plt.bar(y_pos, values, align='center', alpha=0.5)\n",
    "plt.xticks(y_pos, labels)\n",
    "plt.show()"
   ]
  },
  {
   "cell_type": "markdown",
   "metadata": {},
   "source": [
    "Categorical variables seem to have different distributions. It is not obvious if there is any dependencies between them."
   ]
  },
  {
   "cell_type": "markdown",
   "metadata": {},
   "source": [
    "##### Correlation"
   ]
  },
  {
   "cell_type": "code",
   "execution_count": 157,
   "metadata": {},
   "outputs": [
    {
     "data": {
      "text/html": [
       "<div>\n",
       "<style scoped>\n",
       "    .dataframe tbody tr th:only-of-type {\n",
       "        vertical-align: middle;\n",
       "    }\n",
       "\n",
       "    .dataframe tbody tr th {\n",
       "        vertical-align: top;\n",
       "    }\n",
       "\n",
       "    .dataframe thead th {\n",
       "        text-align: right;\n",
       "    }\n",
       "</style>\n",
       "<table border=\"1\" class=\"dataframe\">\n",
       "  <thead>\n",
       "    <tr style=\"text-align: right;\">\n",
       "      <th></th>\n",
       "      <th>age</th>\n",
       "      <th>trestbps</th>\n",
       "      <th>chol</th>\n",
       "      <th>thalach</th>\n",
       "      <th>oldpeak</th>\n",
       "      <th>n_vessels</th>\n",
       "    </tr>\n",
       "  </thead>\n",
       "  <tbody>\n",
       "    <tr>\n",
       "      <th>age</th>\n",
       "      <td>1.000000</td>\n",
       "      <td>0.284946</td>\n",
       "      <td>0.208950</td>\n",
       "      <td>-0.393806</td>\n",
       "      <td>0.203805</td>\n",
       "      <td>0.222853</td>\n",
       "    </tr>\n",
       "    <tr>\n",
       "      <th>trestbps</th>\n",
       "      <td>0.284946</td>\n",
       "      <td>1.000000</td>\n",
       "      <td>0.130120</td>\n",
       "      <td>-0.045351</td>\n",
       "      <td>0.189171</td>\n",
       "      <td>0.157754</td>\n",
       "    </tr>\n",
       "    <tr>\n",
       "      <th>chol</th>\n",
       "      <td>0.208950</td>\n",
       "      <td>0.130120</td>\n",
       "      <td>1.000000</td>\n",
       "      <td>-0.003432</td>\n",
       "      <td>0.046564</td>\n",
       "      <td>0.070909</td>\n",
       "    </tr>\n",
       "    <tr>\n",
       "      <th>thalach</th>\n",
       "      <td>-0.393806</td>\n",
       "      <td>-0.045351</td>\n",
       "      <td>-0.003432</td>\n",
       "      <td>1.000000</td>\n",
       "      <td>-0.343085</td>\n",
       "      <td>-0.415040</td>\n",
       "    </tr>\n",
       "    <tr>\n",
       "      <th>oldpeak</th>\n",
       "      <td>0.203805</td>\n",
       "      <td>0.189171</td>\n",
       "      <td>0.046564</td>\n",
       "      <td>-0.343085</td>\n",
       "      <td>1.000000</td>\n",
       "      <td>0.504092</td>\n",
       "    </tr>\n",
       "    <tr>\n",
       "      <th>n_vessels</th>\n",
       "      <td>0.222853</td>\n",
       "      <td>0.157754</td>\n",
       "      <td>0.070909</td>\n",
       "      <td>-0.415040</td>\n",
       "      <td>0.504092</td>\n",
       "      <td>1.000000</td>\n",
       "    </tr>\n",
       "  </tbody>\n",
       "</table>\n",
       "</div>"
      ],
      "text/plain": [
       "                age  trestbps      chol   thalach   oldpeak  n_vessels\n",
       "age        1.000000  0.284946  0.208950 -0.393806  0.203805   0.222853\n",
       "trestbps   0.284946  1.000000  0.130120 -0.045351  0.189171   0.157754\n",
       "chol       0.208950  0.130120  1.000000 -0.003432  0.046564   0.070909\n",
       "thalach   -0.393806 -0.045351 -0.003432  1.000000 -0.343085  -0.415040\n",
       "oldpeak    0.203805  0.189171  0.046564 -0.343085  1.000000   0.504092\n",
       "n_vessels  0.222853  0.157754  0.070909 -0.415040  0.504092   1.000000"
      ]
     },
     "execution_count": 157,
     "metadata": {},
     "output_type": "execute_result"
    }
   ],
   "source": [
    "# numerical variables correlations are not strong.\n",
    "df_mod.corr()"
   ]
  },
  {
   "cell_type": "code",
   "execution_count": 158,
   "metadata": {},
   "outputs": [
    {
     "data": {
      "image/png": "[encoded data removed]",
      "text/plain": [
       "<matplotlib.figure.Figure at 0xbf0ddd8>"
      ]
     },
     "metadata": {},
     "output_type": "display_data"
    }
   ],
   "source": [
    "# heatmap\n",
    "corrmat = df_mod.corr()\n",
    "f, ax = plt.subplots(figsize=(12, 9))\n",
    "sns.heatmap(corrmat, vmax=.8, square=True)\n",
    "plt.show()"
   ]
  },
  {
   "cell_type": "markdown",
   "metadata": {},
   "source": [
    "There is no very string correlation between variables and there are 3 pairs that have weak correlation. Others have significant values of correlaton coefficients. "
   ]
  },
  {
   "cell_type": "markdown",
   "metadata": {},
   "source": [
    "##### Multiple variables visualization: goal vs. numerical variables."
   ]
  },
  {
   "cell_type": "code",
   "execution_count": 159,
   "metadata": {},
   "outputs": [
    {
     "data": {
      "image/png": "[encoded data removed]",
      "text/plain": [
       "<matplotlib.figure.Figure at 0xbf4e080>"
      ]
     },
     "metadata": {},
     "output_type": "display_data"
    }
   ],
   "source": [
    "# Visualization of the correlation between goal x age\n",
    "\n",
    "plt.figure(figsize=(10,10))\n",
    "plt.xlabel('n_vessels')\n",
    "plt.ylabel('age')\n",
    "\n",
    "\n",
    "plt.plot( df_mod['n_vessels'], df_mod['age'], 'o', alpha=0.3)\n",
    "plt.show()"
   ]
  },
  {
   "cell_type": "code",
   "execution_count": 160,
   "metadata": {},
   "outputs": [
    {
     "name": "stderr",
     "output_type": "stream",
     "text": [
      "C:\\Users\\hbenamor\\AppData\\Local\\Continuum\\anaconda3\\lib\\site-packages\\numpy\\core\\fromnumeric.py:52: FutureWarning: reshape is deprecated and will raise in a subsequent release. Please use .values.reshape(...) instead\n",
      "  return getattr(obj, method)(*args, **kwds)\n"
     ]
    },
    {
     "data": {
      "image/png": "[encoded data removed]",
      "text/plain": [
       "<matplotlib.figure.Figure at 0xbfefdd8>"
      ]
     },
     "metadata": {},
     "output_type": "display_data"
    }
   ],
   "source": [
    "# Box plot to show the distribution between age x goal\n",
    "values = []\n",
    "labels = []\n",
    "for goal in sorted(df_mod['n_vessels'].unique()):\n",
    "    labels.append(goal)\n",
    "    values.append(df_mod[df_mod['n_vessels']==goal]['age'])\n",
    "\n",
    "plt.boxplot(values)\n",
    "plt.xticks(range(1,len(labels)+1), labels, rotation='horizontal')\n",
    "plt.show()"
   ]
  },
  {
   "cell_type": "code",
   "execution_count": 161,
   "metadata": {},
   "outputs": [
    {
     "data": {
      "image/png": "[encoded data removed]",
      "text/plain": [
       "<matplotlib.figure.Figure at 0xb78da20>"
      ]
     },
     "metadata": {},
     "output_type": "display_data"
    }
   ],
   "source": [
    "# Visualization of the correlation between goal x trestbps\n",
    "\n",
    "plt.figure(figsize=(10,10))\n",
    "plt.xlabel('n_vessels')\n",
    "plt.ylabel('trestbps')\n",
    "\n",
    "\n",
    "plt.plot( df_mod['n_vessels'], df_mod['trestbps'], 'o', alpha=0.3)\n",
    "plt.show()"
   ]
  },
  {
   "cell_type": "code",
   "execution_count": 162,
   "metadata": {},
   "outputs": [
    {
     "name": "stderr",
     "output_type": "stream",
     "text": [
      "C:\\Users\\hbenamor\\AppData\\Local\\Continuum\\anaconda3\\lib\\site-packages\\numpy\\core\\fromnumeric.py:52: FutureWarning: reshape is deprecated and will raise in a subsequent release. Please use .values.reshape(...) instead\n",
      "  return getattr(obj, method)(*args, **kwds)\n"
     ]
    },
    {
     "data": {
      "image/png": "[encoded data removed]",
      "text/plain": [
       "<matplotlib.figure.Figure at 0xbbe0470>"
      ]
     },
     "metadata": {},
     "output_type": "display_data"
    }
   ],
   "source": [
    "# Box plot to show the distribution between trestbps x goal\n",
    "values = []\n",
    "labels = []\n",
    "for goal in sorted(df_mod['n_vessels'].unique()):\n",
    "    labels.append(goal)\n",
    "    values.append(df_mod[df_mod['n_vessels']==goal]['trestbps'])\n",
    "\n",
    "plt.boxplot(values)\n",
    "plt.xticks(range(1,len(labels)+1), labels, rotation='horizontal')\n",
    "plt.show()"
   ]
  },
  {
   "cell_type": "code",
   "execution_count": 163,
   "metadata": {},
   "outputs": [
    {
     "data": {
      "image/png": "[encoded data removed]",
      "text/plain": [
       "<matplotlib.figure.Figure at 0xc11c2b0>"
      ]
     },
     "metadata": {},
     "output_type": "display_data"
    }
   ],
   "source": [
    "# Visualization of the correlation between goal x cholesterol\n",
    "\n",
    "plt.figure(figsize=(10,10))\n",
    "plt.xlabel('n_vessels')\n",
    "plt.ylabel('chol')\n",
    "\n",
    "\n",
    "plt.plot( df_mod['n_vessels'], df_mod['chol'], 'o', alpha=0.3)\n",
    "plt.show()"
   ]
  },
  {
   "cell_type": "code",
   "execution_count": 164,
   "metadata": {},
   "outputs": [
    {
     "name": "stderr",
     "output_type": "stream",
     "text": [
      "C:\\Users\\hbenamor\\AppData\\Local\\Continuum\\anaconda3\\lib\\site-packages\\numpy\\core\\fromnumeric.py:52: FutureWarning: reshape is deprecated and will raise in a subsequent release. Please use .values.reshape(...) instead\n",
      "  return getattr(obj, method)(*args, **kwds)\n"
     ]
    },
    {
     "data": {
      "image/png": "[encoded data removed]",
      "text/plain": [
       "<matplotlib.figure.Figure at 0xc11c128>"
      ]
     },
     "metadata": {},
     "output_type": "display_data"
    }
   ],
   "source": [
    "# Box plot to show the distribution between chol x goal\n",
    "values = []\n",
    "labels = []\n",
    "for goal in sorted(df_mod['n_vessels'].unique()):\n",
    "    labels.append(goal)\n",
    "    values.append(df_mod[df_mod['n_vessels']==goal]['chol'])\n",
    "\n",
    "plt.boxplot(values)\n",
    "plt.xticks(range(1,len(labels)+1), labels, rotation='horizontal')\n",
    "plt.show()"
   ]
  },
  {
   "cell_type": "code",
   "execution_count": 165,
   "metadata": {},
   "outputs": [
    {
     "data": {
      "image/png": "[encoded data removed]",
      "text/plain": [
       "<matplotlib.figure.Figure at 0xbbe0da0>"
      ]
     },
     "metadata": {},
     "output_type": "display_data"
    }
   ],
   "source": [
    "# Visualization of the correlation between goal x thalach\n",
    "\n",
    "plt.figure(figsize=(10,10))\n",
    "plt.xlabel('n_vessels')\n",
    "plt.ylabel('thalach')\n",
    "\n",
    "\n",
    "plt.plot( df_mod['n_vessels'], df_mod['thalach'], 'o', alpha=0.3)\n",
    "plt.show()"
   ]
  },
  {
   "cell_type": "code",
   "execution_count": 166,
   "metadata": {},
   "outputs": [
    {
     "name": "stderr",
     "output_type": "stream",
     "text": [
      "C:\\Users\\hbenamor\\AppData\\Local\\Continuum\\anaconda3\\lib\\site-packages\\numpy\\core\\fromnumeric.py:52: FutureWarning: reshape is deprecated and will raise in a subsequent release. Please use .values.reshape(...) instead\n",
      "  return getattr(obj, method)(*args, **kwds)\n"
     ]
    },
    {
     "data": {
      "image/png": "[encoded data removed]",
      "text/plain": [
       "<matplotlib.figure.Figure at 0xb954eb8>"
      ]
     },
     "metadata": {},
     "output_type": "display_data"
    }
   ],
   "source": [
    "# Box plot to show the distribution between thalach x goal\n",
    "values = []\n",
    "labels = []\n",
    "for goal in sorted(df_mod['n_vessels'].unique()):\n",
    "    labels.append(goal)\n",
    "    values.append(df_mod[df_mod['n_vessels']==goal]['thalach'])\n",
    "\n",
    "plt.boxplot(values)\n",
    "plt.xticks(range(1,len(labels)+1), labels, rotation='horizontal')\n",
    "plt.show()"
   ]
  },
  {
   "cell_type": "code",
   "execution_count": 167,
   "metadata": {},
   "outputs": [
    {
     "data": {
      "image/png": "[encoded data removed]",
      "text/plain": [
       "<matplotlib.figure.Figure at 0xb9cf240>"
      ]
     },
     "metadata": {},
     "output_type": "display_data"
    }
   ],
   "source": [
    "# Visualization of the correlation between goal x oldpeak\n",
    "\n",
    "plt.figure(figsize=(10,10))\n",
    "plt.xlabel('n_vessels')\n",
    "plt.ylabel('oldpeak')\n",
    "\n",
    "\n",
    "plt.plot( df_mod['n_vessels'], df_mod['oldpeak'], 'o', alpha=0.3)\n",
    "plt.show()"
   ]
  },
  {
   "cell_type": "code",
   "execution_count": 168,
   "metadata": {},
   "outputs": [
    {
     "name": "stderr",
     "output_type": "stream",
     "text": [
      "C:\\Users\\hbenamor\\AppData\\Local\\Continuum\\anaconda3\\lib\\site-packages\\numpy\\core\\fromnumeric.py:52: FutureWarning: reshape is deprecated and will raise in a subsequent release. Please use .values.reshape(...) instead\n",
      "  return getattr(obj, method)(*args, **kwds)\n"
     ]
    },
    {
     "data": {
      "image/png": "[encoded data removed]",
      "text/plain": [
       "<matplotlib.figure.Figure at 0xb8a35c0>"
      ]
     },
     "metadata": {},
     "output_type": "display_data"
    }
   ],
   "source": [
    "# Box plot to show the distribution between oldpeak x goal\n",
    "values = []\n",
    "labels = []\n",
    "for goal in sorted(df_mod['n_vessels'].unique()):\n",
    "    labels.append(goal)\n",
    "    values.append(df_mod[df_mod['n_vessels']==goal]['oldpeak'])\n",
    "\n",
    "plt.boxplot(values)\n",
    "plt.xticks(range(1,len(labels)+1), labels, rotation='horizontal')\n",
    "plt.show()"
   ]
  },
  {
   "cell_type": "markdown",
   "metadata": {},
   "source": [
    "The plots and boxplots show the mainly the same distributions. Many among them present close-ton-normal distributions which suggests that they may not impact the distribution of the number of narrowed vessels (or the goal) in a significant manner. However, the median values of some variables, e.g. old peak, seam to exhibit a certain relation with the number of narrowed vessels."
   ]
  },
  {
   "cell_type": "markdown",
   "metadata": {},
   "source": [
    "##### Multiple variables visualization: goal vs. categorical variables."
   ]
  },
  {
   "cell_type": "code",
   "execution_count": 285,
   "metadata": {
    "scrolled": true
   },
   "outputs": [
    {
     "data": {
      "image/png": "[encoded data removed]",
      "text/plain": [
       "<matplotlib.figure.Figure at 0xc0ce860>"
      ]
     },
     "metadata": {},
     "output_type": "display_data"
    }
   ],
   "source": [
    "# Add id column\n",
    "df_id = pnd.DataFrame({'id': range(0, len(df_mod), 1)})\n",
    "df_id\n",
    "df_ext = pnd.concat([df_id, df_mod], axis=1)\n",
    "#df_ext.head()\n",
    "#print(df_ext.loc[(df_ext['n_vessels'] != 0) & (df_ext['n_vessels'] != 1) & (df_ext['n_vessels'] != 2) &\n",
    "#                (df_ext['n_vessels'] != 3) & (df_ext['n_vessels'] != 4)])\n",
    "\n",
    "#count  number of patients by chest pain and heart disease diagnosis\n",
    "#nb_vessels = [0,1, 2, 3, 4]\n",
    "cp = df_ext['cp'].unique()\n",
    "r = range(len(cp))\n",
    "\n",
    "df_group = df_ext.groupby(['cp', 'n_vessels'])['id'].count().reset_index()\n",
    "df_group = df_ext.pivot_table(index='cp', columns = 'n_vessels', values='id')\n",
    "df_group = df_group[[0,1,2,3,4]]\n",
    "#fix some values\n",
    "df_group[4] = nmp.where(nmp.isnan(df_group[4]), 0, df_group[4])\n",
    "df_group[3] = nmp.where(nmp.isnan(df_group[3]), 0, df_group[3])\n",
    "#df_group.head(20)\n",
    "\n",
    "df_group.columns = ['0_vessel','1_vessel','2_vessels','3_vessels','4_vessels']\n",
    "df_group = df_group.sort_values(['0_vessel','1_vessel','2_vessels','3_vessels','4_vessels'])\n",
    "\n",
    "raw_data = {'0_vessel': df_group['0_vessel'].values, \n",
    "            '1_vessel': df_group['1_vessel'].values,\n",
    "            '2_vessels': df_group['2_vessels'].values,\n",
    "            '3_vessels': df_group['3_vessels'].values,\n",
    "            '4_vessels': df_group['4_vessels'].values\n",
    "           }\n",
    "\n",
    "raw_data\n",
    "# From raw value to percentage\n",
    "totals = [float(i+j+k+l+m) for i,j,k,l,m in zip(raw_data['0_vessel'],raw_data['1_vessel'],raw_data['2_vessels'],raw_data['3_vessels'],raw_data['4_vessels'])]\n",
    "nv0Bars = [i / j * 100 for i,j in zip(raw_data['0_vessel'], totals)]\n",
    "nv1Bars = [i / j * 100 for i,j in zip(raw_data['1_vessel'], totals)]\n",
    "nv2Bars = [i / j * 100 for i,j in zip(raw_data['2_vessels'], totals)]\n",
    "nv3Bars = [i / j * 100 for i,j in zip(raw_data['3_vessels'], totals)]\n",
    "nv4Bars = [i / j * 100 for i,j in zip(raw_data['4_vessels'], totals)]\n",
    "#nv4Bars\n",
    "\n",
    "# plot\n",
    "barWidth = 0.85\n",
    "names = cp\n",
    "plt.figure(figsize=(12,6))\n",
    "# Create Bars\n",
    "plt.bar(r, nv0Bars, edgecolor='white', width=barWidth, alpha=0.7, label='0_vessel')\n",
    "plt.bar(r, nv1Bars, bottom=nv0Bars, edgecolor='white', width=barWidth, alpha=0.7, label='1_vessel')\n",
    "plt.bar(r, nv2Bars, bottom=[i+j for i,j in zip(nv0Bars, nv1Bars)], edgecolor='white', width=barWidth, alpha=0.7, label='2_vessel')\n",
    "plt.bar(r, nv3Bars, bottom=[i+j+k for i,j,k in zip(nv0Bars, nv1Bars, nv2Bars)], edgecolor='white', width=barWidth, alpha=0.7, label='3_vessel')\n",
    "plt.bar(r, nv4Bars, bottom=[i+j+k+l for i,j,k,l in zip(nv0Bars, nv1Bars, nv2Bars, nv3Bars)], edgecolor='white', width=barWidth, alpha=0.7, label='4_vessel')\n",
    "\n",
    "# Custom x axis\n",
    "plt.xticks(r, names, rotation='vertical')\n",
    "plt.ylabel(\"Percent\")\n",
    "plt.xlabel(\"chess pain type\")\n",
    "\n",
    "plt.legend()\n",
    "\n",
    "# Show graphic\n",
    "plt.show()\n"
   ]
  },
  {
   "cell_type": "markdown",
   "metadata": {},
   "source": [
    "Some aspects seem to follow the expectations with the common knowledge about heart disease bit others seem to be a bot surprising. For exmple, the fact that ths asymptomatic chest pain is the type where the least ratio of norrowed vessels is observed, whereas one may expect this to be the case for the non-angina chest pain type. And the chest pain type does not clearly point to a major direction w.r.t. the number of vessels that are narrowed by more than 50%."
   ]
  },
  {
   "cell_type": "code",
   "execution_count": 351,
   "metadata": {},
   "outputs": [
    {
     "name": "stdout",
     "output_type": "stream",
     "text": [
      "cp            non_ang       asymp    atyp_ang  typ_ang\n",
      "n_vessels                                             \n",
      "0          142.676471  152.769231  160.634146  117.125\n",
      "1          126.666667  146.171429  177.333333  207.200\n",
      "2          145.500000  171.566667  187.000000  243.000\n",
      "3           95.000000  156.310345  199.000000    0.000\n",
      "4           45.000000  141.000000    0.000000  211.000\n",
      "{'non_ang': array([142.67647059, 126.66666667, 145.5       ,  95.        ,\n",
      "        45.        ]), 'asymp': array([152.76923077, 146.17142857, 171.56666667, 156.31034483,\n",
      "       141.        ]), 'atyp_ang': array([160.63414634, 177.33333333, 187.        , 199.        ,\n",
      "         0.        ]), 'typ_ang': array([117.125, 207.2  , 243.   ,   0.   , 211.   ])}\n"
     ]
    },
    {
     "data": {
      "image/png": "[encoded data removed]",
      "text/plain": [
       "<matplotlib.figure.Figure at 0xb77b400>"
      ]
     },
     "metadata": {},
     "output_type": "display_data"
    }
   ],
   "source": [
    "# Reverse point of view: number of patients by chest pain and heart disease diagnosis\n",
    "# This viewpoint helps understanding better the relation chest pain type -> number of narrowed vessels.\n",
    "cp = df_ext['cp'].unique()\n",
    "#print(cp)\n",
    "n_vessels = df_ext['n_vessels'].unique()\n",
    "#print(n_vessels)\n",
    "r = range(len(n_vessels))\n",
    "\n",
    "df_group = df_ext.groupby(['n_vessels', 'cp'])['id'].count().reset_index()\n",
    "#print(df_group)\n",
    "df_group = df_ext.pivot_table(index='n_vessels', columns = 'cp', values='id')\n",
    "#print(df_group)\n",
    "df_group = df_group[['non_ang', 'asymp','atyp_ang','typ_ang']]\n",
    "#print(df_group)\n",
    "#fix some values\n",
    "df_group['atyp_ang'] = nmp.where(nmp.isnan(df_group['atyp_ang']), 0, df_group['atyp_ang'])\n",
    "df_group['typ_ang'] = nmp.where(nmp.isnan(df_group['typ_ang']), 0, df_group['typ_ang'])\n",
    "print(df_group)\n",
    "\n",
    "#df_group = df_group.sort_values(['non_ang','asymp','atyp_ang','typ_ang'])\n",
    "#print(df_group)\n",
    "raw_data = {'non_ang': df_group['non_ang'].values,\n",
    "            'asymp': df_group['asymp'].values, \n",
    "            'atyp_ang': df_group['atyp_ang'].values,\n",
    "            'typ_ang': df_group['typ_ang'].values\n",
    "           }\n",
    "print(raw_data)\n",
    "# From raw value to percentage\n",
    "totals = [float(i+j+k+l) for i,j,k,l in zip(raw_data['non_ang'],raw_data['asymp'],\n",
    "                                            raw_data['atyp_ang'],raw_data['typ_ang'])]\n",
    "non_angBars  = [i / j * 100 for i,j in zip(raw_data['non_ang'], totals)]\n",
    "asympBars    = [i / j * 100 for i,j in zip(raw_data['asymp'], totals)]\n",
    "atyp_angBars = [i / j * 100 for i,j in zip(raw_data['atyp_ang'], totals)]\n",
    "typ_angBars  = [i / j * 100 for i,j in zip(raw_data['typ_ang'], totals)]\n",
    "\n",
    "# plot\n",
    "barWidth = 0.85\n",
    "names = [0,1,2,3,4]#n_vessels\n",
    "plt.figure(figsize=(12,6))\n",
    "# Create Bars\n",
    "plt.bar(r, non_angBars, \n",
    "        edgecolor='white', width=barWidth, alpha=0.7, label='non_ang')\n",
    "plt.bar(r, asympBars, bottom=non_angBars, \n",
    "        edgecolor='white', width=barWidth, alpha=0.7, label='asymp')\n",
    "plt.bar(r, atyp_angBars, bottom=[i+j for i,j in zip(non_angBars, asympBars)], \n",
    "        edgecolor='white', width=barWidth, alpha=0.7, label='atyp_ang')\n",
    "plt.bar(r, typ_angBars, bottom=[i+j+k for i,j,k in zip(non_angBars, asympBars, atyp_angBars)], \n",
    "        edgecolor='white', width=barWidth, alpha=0.7, label='typ_ang')\n",
    "\n",
    "# Custom x axis\n",
    "plt.xticks(r, names, rotation='vertical')\n",
    "plt.ylabel(\"Percent\")\n",
    "plt.xlabel(\"number of narrowed vessels\")\n",
    "\n",
    "plt.legend()\n",
    "\n",
    "# Show graphic\n",
    "plt.show()"
   ]
  },
  {
   "cell_type": "markdown",
   "metadata": {},
   "source": [
    "The results here make more sense as, for example, the non-angina chest pain type ratio is by far smaller than the typical angina chest pain type ratio among people having 4 major vessels that are narrowed. The results suggest that the chest pain type variable would be a significant element in predicting the heart disease presence for patients. "
   ]
  },
  {
   "cell_type": "code",
   "execution_count": 349,
   "metadata": {},
   "outputs": [
    {
     "name": "stdout",
     "output_type": "stream",
     "text": [
      "               normal  fixed_defect  reversible_defect\n",
      "n_vessels                                             \n",
      "0          147.023077    126.333333         151.750000\n",
      "1          166.818182     95.666667         146.633333\n",
      "2          182.500000    218.166667         154.090909\n",
      "3          179.833333    296.000000         140.571429\n",
      "4          212.500000    229.500000         102.555556\n",
      "{'normal': array([147.02307692, 166.81818182, 182.5       , 179.83333333,\n",
      "       212.5       ]), 'fixed_defect': array([126.33333333,  95.66666667, 218.16666667, 296.        ,\n",
      "       229.5       ]), 'reversible_defect': array([151.75      , 146.63333333, 154.09090909, 140.57142857,\n",
      "       102.55555556])}\n"
     ]
    },
    {
     "data": {
      "image/png": "[encoded data removed]",
      "text/plain": [
       "<matplotlib.figure.Figure at 0xc48af98>"
      ]
     },
     "metadata": {},
     "output_type": "display_data"
    }
   ],
   "source": [
    "# Reverse point of view: number of patients by chest pain and heart disease diagnosis\n",
    "# This viewpoint helps understanding better the relation thalassius stres test result -> number of narrowed vessels.\n",
    "thal = df_ext['thal'].unique()\n",
    "#print(thal)\n",
    "n_vessels = df_ext['n_vessels'].unique()\n",
    "#print(n_vessels)\n",
    "r = range(len(n_vessels))\n",
    "\n",
    "df_group = df_ext.groupby(['n_vessels', 'thal'])['id'].count().reset_index()\n",
    "#print(df_group)\n",
    "df_group = df_ext.pivot_table(index='n_vessels', columns = 'thal', values='id')\n",
    "#print(df_group)\n",
    "df_group = df_group[['3.0', '6.0', '7.0']]\n",
    "df_group.columns = ['normal', 'fixed_defect', 'reversible_defect']\n",
    "print(df_group)\n",
    "\n",
    "#df_group = df_group.sort_values(['non_ang','asymp','atyp_ang','typ_ang'])\n",
    "#print(df_group)\n",
    "raw_data = {'normal': df_group['normal'].values,\n",
    "            'fixed_defect': df_group['fixed_defect'].values, \n",
    "            'reversible_defect': df_group['reversible_defect'].values\n",
    "           }\n",
    "print(raw_data)\n",
    "# From raw value to percentage\n",
    "totals = [float(i+j+k) for i,j,k in zip(raw_data['normal'],raw_data['fixed_defect'],raw_data['reversible_defect'])]\n",
    "normalBars  = [i / j * 100 for i,j in zip(raw_data['normal'], totals)]\n",
    "fixed_defectBars    = [i / j * 100 for i,j in zip(raw_data['fixed_defect'], totals)]\n",
    "reversible_defectBars = [i / j * 100 for i,j in zip(raw_data['reversible_defect'], totals)]\n",
    "\n",
    "# plot\n",
    "barWidth = 0.85\n",
    "names = [0,1,2,3,4]\n",
    "plt.figure(figsize=(12,6))\n",
    "# Create Bars\n",
    "plt.bar(r, normalBars, \n",
    "        edgecolor='white', width=barWidth, alpha=0.7, label='normal')\n",
    "plt.bar(r, fixed_defectBars, bottom=normalBars, \n",
    "        edgecolor='white', width=barWidth, alpha=0.7, label='fixed_defect')\n",
    "plt.bar(r, reversible_defectBars, bottom=[i+j for i,j in zip(normalBars, fixed_defectBars)], \n",
    "        edgecolor='white', width=barWidth, alpha=0.7, label='reversible_defect')\n",
    "\n",
    "# Custom x axis\n",
    "plt.xticks(r, names, rotation='vertical')\n",
    "plt.ylabel(\"Percent\")\n",
    "plt.xlabel(\"number of narrowed vessels\")\n",
    "\n",
    "plt.legend()\n",
    "\n",
    "# Show graphic\n",
    "plt.show()"
   ]
  },
  {
   "cell_type": "markdown",
   "metadata": {},
   "source": [
    "The results show that it is not obvious to draw a clear relationship between the goal and other categorical variables, even if these variables seem to have a significant impact on the heart dosease versict."
   ]
  },
  {
   "cell_type": "code",
   "execution_count": null,
   "metadata": {},
   "outputs": [],
   "source": []
  }
 ],
 "metadata": {
  "kernelspec": {
   "display_name": "Python 3",
   "language": "python",
   "name": "python3"
  },
  "language_info": {
   "codemirror_mode": {
    "name": "ipython",
    "version": 3
   },
   "file_extension": ".py",
   "mimetype": "text/x-python",
   "name": "python",
   "nbconvert_exporter": "python",
   "pygments_lexer": "ipython3",
   "version": "3.6.4"
  }
 },
 "nbformat": 4,
 "nbformat_minor": 2
}
